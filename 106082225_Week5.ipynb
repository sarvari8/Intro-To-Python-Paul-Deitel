{
 "cells": [
  {
   "cell_type": "markdown",
   "id": "b8d570fd-f11e-46ee-927e-cff25b9b70f5",
   "metadata": {},
   "source": [
    "## UID 106082225, Sarvari Pidaparty, MSBA'23\n"
   ]
  },
  {
   "cell_type": "markdown",
   "id": "bfc83306-8846-477f-9a59-60dcea8f0212",
   "metadata": {},
   "source": [
    "Self - Assessment: I have done the required exercises and fully understand them.\n"
   ]
  },
  {
   "cell_type": "markdown",
   "id": "9edf347d-a976-44aa-bb51-59066cae0b39",
   "metadata": {},
   "source": [
    "# 7.23 Data Science: Pandas DataFrames\n",
    "Perform the following tasks with pandas DataFrames:  \n",
    "a) Create a DataFrame named temperatures from a dictionary of three temperature readings each for 'Maxine', 'James' and 'Amanda'.  \n",
    "b) Recreate the DataFrame temperatures in Part (a) with custom indices using the index keyword argument and a list containing 'Morning', 'Afternoon' and 'Evening'.  \n",
    "c) Select from temperatures the column of temperature readings for 'Maxine'.  \n",
    "d) Select from temperatures the row of 'Morning' temperature readings.  \n",
    "e) Select from temperatures the rows for 'Morning' and 'Evening' temperature readings.  \n",
    "f) Select from temperatures the columns of temperature readings for 'Amanda' and 'Maxine'.  \n",
    "g) Select from temperatures the elements for 'Amanda' and 'Maxine' in the 'Morning' and 'Afternoon'.  \n",
    "h) Use the describe method to produce temperatures’ descriptive statistics.  \n",
    "i) Transpose temperatures.  \n",
    "j) Sort temperatures so that its column names are in alphabetical order."
   ]
  },
  {
   "cell_type": "code",
   "execution_count": 1,
   "id": "3e22b8fe-5196-4000-b203-600f1bf779ce",
   "metadata": {},
   "outputs": [
    {
     "name": "stdout",
     "output_type": "stream",
     "text": [
      "   Maxine  James  Amanda\n",
      "0    97.8   96.5    95.9\n",
      "1    99.2   98.2    96.4\n",
      "2    98.5   99.4    98.1\n"
     ]
    }
   ],
   "source": [
    "import pandas as pd\n",
    "dict1 = {\n",
    "    'Maxine':[97.8, 99.2, 98.5],\n",
    "    'James':[96.5, 98.2, 99.4],\n",
    "    'Amanda':[95.9, 96.4, 98.1],\n",
    "}\n",
    "temperatures = pd.DataFrame(dict1)\n",
    "print(temperatures)"
   ]
  },
  {
   "cell_type": "markdown",
   "id": "550253f2-b316-41cb-b050-3204eb32c617",
   "metadata": {},
   "source": [
    "`Pandas` is imported, first we define the dictionary as required, create the dataframe and finally print the values."
   ]
  },
  {
   "cell_type": "code",
   "execution_count": 2,
   "id": "a285b28e-8f4b-4fc1-b77c-69004a7e83c4",
   "metadata": {},
   "outputs": [
    {
     "name": "stdout",
     "output_type": "stream",
     "text": [
      "           Maxine  James  Amanda\n",
      "Morning      97.8   96.5    95.9\n",
      "Afternoon    99.2   98.2    96.4\n",
      "Evening      98.5   99.4    98.1\n"
     ]
    }
   ],
   "source": [
    "temperatures = pd.DataFrame(dict1, index = [\"Morning\", \"Afternoon\", \"Evening\"])\n",
    "print(temperatures)"
   ]
  },
  {
   "cell_type": "markdown",
   "id": "d7166c54-b294-4a99-8471-4218e42b250b",
   "metadata": {},
   "source": [
    "We recreate the dataframe to edit the indexes indexes to `morning`, `afternoon` and `evening`."
   ]
  },
  {
   "cell_type": "code",
   "execution_count": 3,
   "id": "c1ec773f-493f-43d6-838f-98f9c70d32e7",
   "metadata": {},
   "outputs": [
    {
     "name": "stdout",
     "output_type": "stream",
     "text": [
      "           Maxine\n",
      "Morning      97.8\n",
      "Afternoon    99.2\n",
      "Evening      98.5\n"
     ]
    }
   ],
   "source": [
    "maxine_col = temperatures[['Maxine']]\n",
    "print(maxine_col)"
   ]
  },
  {
   "cell_type": "markdown",
   "id": "c0051d16-b7b4-40ef-a181-a2d81ffdbcc3",
   "metadata": {},
   "source": [
    "We select the Maxine column as shown using the square brackets."
   ]
  },
  {
   "cell_type": "code",
   "execution_count": 4,
   "id": "d59bf37d-8eaf-4a9e-917a-83f4af815960",
   "metadata": {},
   "outputs": [
    {
     "name": "stdout",
     "output_type": "stream",
     "text": [
      "         Maxine  James  Amanda\n",
      "Morning    97.8   96.5    95.9\n"
     ]
    }
   ],
   "source": [
    "morn_row = temperatures.loc[[\"Morning\"],:]\n",
    "print(morn_row)"
   ]
  },
  {
   "cell_type": "markdown",
   "id": "d6f81e27-2876-4374-b2bb-62227e2184d2",
   "metadata": {},
   "source": [
    "`loc` is used to select the Morning row."
   ]
  },
  {
   "cell_type": "code",
   "execution_count": 5,
   "id": "3724bcb5-3a9f-4dbf-bed9-8f337c65365e",
   "metadata": {},
   "outputs": [
    {
     "name": "stdout",
     "output_type": "stream",
     "text": [
      "         Maxine  James  Amanda\n",
      "Morning    97.8   96.5    95.9\n",
      "Evening    98.5   99.4    98.1\n"
     ]
    }
   ],
   "source": [
    "morneve_row = temperatures.loc[[\"Morning\", \"Evening\"],:]\n",
    "print(morneve_row)"
   ]
  },
  {
   "cell_type": "markdown",
   "id": "e49c51ca-6cf6-4d16-8ac7-1b9131d3f664",
   "metadata": {},
   "source": [
    "We use `loc` to select rows morning and evening."
   ]
  },
  {
   "cell_type": "code",
   "execution_count": 6,
   "id": "87425ecf-ddb3-46f7-8001-74007f513cf5",
   "metadata": {},
   "outputs": [
    {
     "name": "stdout",
     "output_type": "stream",
     "text": [
      "         Amanda\n",
      "Morning    95.9\n"
     ]
    }
   ],
   "source": [
    "AmMorn = temperatures[[\"Amanda\"]].loc[[\"Morning\"],:]\n",
    "print(AmMorn)"
   ]
  },
  {
   "cell_type": "markdown",
   "id": "d842765c-d7bd-427e-9dbf-81ff0b0fcf1e",
   "metadata": {},
   "source": [
    "We use a combination of just the square brackets and `loc` to obtain data under Morning and Amanda."
   ]
  },
  {
   "cell_type": "code",
   "execution_count": 7,
   "id": "af01e34a-6740-45c2-abab-54ed10ee661f",
   "metadata": {},
   "outputs": [
    {
     "name": "stdout",
     "output_type": "stream",
     "text": [
      "           Amanda  Maxine\n",
      "Morning      95.9    97.8\n",
      "Afternoon    96.4    99.2\n"
     ]
    }
   ],
   "source": [
    "rowcol = temperatures[[\"Amanda\", \"Maxine\"]].loc[[\"Morning\", \"Afternoon\"]]\n",
    "print(rowcol)"
   ]
  },
  {
   "cell_type": "markdown",
   "id": "a0b5bc2e-0f42-4a32-a6ec-485c6e8bb90e",
   "metadata": {},
   "source": [
    "We use a combination of just the square brackets and loc to obtain data under Morning, Afternoon and Amanda, Maxine."
   ]
  },
  {
   "cell_type": "code",
   "execution_count": 8,
   "id": "99e46169-3a5b-46f3-8874-6e5182492126",
   "metadata": {},
   "outputs": [
    {
     "name": "stdout",
     "output_type": "stream",
     "text": [
      "       Maxine      James     Amanda\n",
      "count    3.00   3.000000   3.000000\n",
      "mean    98.50  98.033333  96.800000\n",
      "std      0.70   1.457166   1.153256\n",
      "min     97.80  96.500000  95.900000\n",
      "25%     98.15  97.350000  96.150000\n",
      "50%     98.50  98.200000  96.400000\n",
      "75%     98.85  98.800000  97.250000\n",
      "max     99.20  99.400000  98.100000\n"
     ]
    }
   ],
   "source": [
    "descstat = temperatures.describe()\n",
    "print(descstat)"
   ]
  },
  {
   "cell_type": "markdown",
   "id": "943ac915-cad6-4958-b441-4f1aafba72ee",
   "metadata": {},
   "source": [
    "`describe` is used to get the descriptive statistics of the dataframe."
   ]
  },
  {
   "cell_type": "code",
   "execution_count": 9,
   "id": "a68d8ae8-2be5-4175-bcd5-b92dbcba6710",
   "metadata": {},
   "outputs": [
    {
     "name": "stdout",
     "output_type": "stream",
     "text": [
      "        Morning  Afternoon  Evening\n",
      "Maxine     97.8       99.2     98.5\n",
      "James      96.5       98.2     99.4\n",
      "Amanda     95.9       96.4     98.1\n"
     ]
    }
   ],
   "source": [
    "transp = temperatures.transpose()\n",
    "print(transp)"
   ]
  },
  {
   "cell_type": "markdown",
   "id": "0fc05d42-ea39-4170-9861-42fc3f652dc8",
   "metadata": {},
   "source": [
    "`transpose` is used to transpose the dataframe. Rows to columns and columns to rows."
   ]
  },
  {
   "cell_type": "code",
   "execution_count": 10,
   "id": "e36dc1e2-40a3-46fb-9edb-796bce0f15f5",
   "metadata": {},
   "outputs": [
    {
     "name": "stdout",
     "output_type": "stream",
     "text": [
      "           Amanda  James  Maxine\n",
      "Morning      95.9   96.5    97.8\n",
      "Afternoon    96.4   98.2    99.2\n",
      "Evening      98.1   99.4    98.5\n"
     ]
    }
   ],
   "source": [
    "sorted1 = temperatures.reindex(sorted(temperatures.columns), axis=1)\n",
    "print(sorted1)"
   ]
  },
  {
   "cell_type": "markdown",
   "id": "5da0147e-8927-4f6c-a0c9-197b372bd2c4",
   "metadata": {},
   "source": [
    "We sort the columns to be in alphabetical order using `reindex` and `sorted`."
   ]
  },
  {
   "cell_type": "markdown",
   "id": "6b0c72bb-97bc-465a-94af-b369ff446ecc",
   "metadata": {},
   "source": [
    "#"
   ]
  },
  {
   "cell_type": "markdown",
   "id": "e72a4494-150a-4d85-beb6-7a9b2fc3f217",
   "metadata": {},
   "source": [
    "# 8.3 Pig Latin\n",
    "Write a script that encodes English-language phrases into a form of coded language called pig Latin. There are many different ways to form pig Latin phrases. For simplicity, use the following algorithm:  \n",
    "To form a pig Latin phrase from an English-language phrase, tokenize the phrase into words with string method split. To translate each English word into a pig Latin word, place the first letter of the English word at the end of the word and add the letters “ay.” Thus, the word “jump” becomes “umpjay,” the word “the” becomes “hetay,” and the word “computer” becomes “omputercay.” If the word starts with a vowel, just add “ay.” Blanks between words remain as blanks. Assume the following: The English phrase consists of words separated by blanks, there are no punctuation marks and all words have two or more letters. Enable the user to enter a sentence, then display the sentence in pig Latin."
   ]
  },
  {
   "cell_type": "code",
   "execution_count": 11,
   "id": "0d14432e-271d-403c-a6c9-1728b7078f73",
   "metadata": {},
   "outputs": [
    {
     "name": "stdin",
     "output_type": "stream",
     "text": [
      "Enter a string:  This is pig latin\n"
     ]
    },
    {
     "name": "stdout",
     "output_type": "stream",
     "text": [
      "histay isay igpay atinlay\n"
     ]
    }
   ],
   "source": [
    "vowel = ['a','e','i','o','u']\n",
    "PigLatinInp = input(\"Enter a string: \").lower()\n",
    "PLwords = PigLatinInp.split()\n",
    "\n",
    "for i, str in enumerate(PLwords):\n",
    "    if str[0] in vowel:\n",
    "        PLwords[i] = PLwords[i] + 'ay'\n",
    "    else:\n",
    "        PLwords[i] = str[1:] + str[:1] + 'ay'\n",
    "\n",
    "joined = ' '.join(PLwords)\n",
    "print(joined)"
   ]
  },
  {
   "cell_type": "markdown",
   "id": "f3695173-4654-49cf-a435-0bba137304d3",
   "metadata": {},
   "source": [
    "First we define a list with the vowels so we can use it later on for the `if` condition.\n",
    "We `input` the sentence from the user and use `lower` to convert all letters to lowercase.\n",
    "Next we get the words in the sentence separated using `split`.\n",
    "We have a simple `for` loop to just add 'ay' to the end of the word if it begins with a vowel, else the first letter is moved to the end and 'ay' is added.\n",
    "`Join` is used to join the split words together back in a sentence at the end."
   ]
  },
  {
   "cell_type": "markdown",
   "id": "7a6e828f-1bff-4a74-9dd3-54ad47244b9b",
   "metadata": {},
   "source": [
    "#"
   ]
  },
  {
   "cell_type": "markdown",
   "id": "a78b31bd-ea45-4d5f-80d3-ac3ce0e36fcc",
   "metadata": {},
   "source": [
    "# 8.8 Converting Integers to Emojis\n",
    "Modify the previous exercise to display 10 emojis beginning with the smiley face, which has the value 0x1F600:5\n",
    "The value 0x1F600 is a hexadecimal (base 16) integer. See the online appendix “Number Systems” for information on the hexadecimal number system. You can find emoji codes by searching online for “Unicode full emoji list.” The Unicode website precedes each character code with \"U+\" (representing Unicode). Replace \"U+\" with \"0x\" to properly format the code as a Python hexadecimal integer."
   ]
  },
  {
   "cell_type": "code",
   "execution_count": 12,
   "id": "55fb611f-86d4-4e99-958f-f05ea2abed38",
   "metadata": {},
   "outputs": [
    {
     "name": "stdout",
     "output_type": "stream",
     "text": [
      "😀\n",
      "😁\n",
      "😂\n",
      "😃\n",
      "😄\n",
      "😅\n",
      "😆\n",
      "😇\n",
      "😈\n",
      "😉\n"
     ]
    }
   ],
   "source": [
    "x = 0x1F600\n",
    "for a in range(10):\n",
    "    print(chr(x + a))"
   ]
  },
  {
   "cell_type": "markdown",
   "id": "b0474e86-2e91-4231-94bc-1c0cd8cc6f24",
   "metadata": {},
   "source": [
    "A `variable` is defined and then a `for` loop is used to print the emojis using `chr`."
   ]
  },
  {
   "cell_type": "markdown",
   "id": "5446e0ce-98dd-4b7f-bac4-96e11c0fed57",
   "metadata": {},
   "source": [
    "#"
   ]
  },
  {
   "cell_type": "markdown",
   "id": "0356ebda-9ef2-4c4f-8f95-07ba1e98e1a9",
   "metadata": {},
   "source": [
    "# 8.13 Regular Expressions: Condense Spaces to a Single Space\n",
    "Check whether a sentence contains more than one space between words. If so, remove the extra spaces and display the results. For example, 'Hello     World' should become 'Hello World'."
   ]
  },
  {
   "cell_type": "code",
   "execution_count": 13,
   "id": "6ed1407c-4f90-439e-be04-30e877a0f6c3",
   "metadata": {},
   "outputs": [
    {
     "name": "stdin",
     "output_type": "stream",
     "text": [
      "Enter a string:  Remove the   spaces\n"
     ]
    },
    {
     "name": "stdout",
     "output_type": "stream",
     "text": [
      "Remove the spaces\n"
     ]
    }
   ],
   "source": [
    "import re\n",
    "spaces = input(\"Enter a string: \")\n",
    "\n",
    "spaces_out = re.sub(r\"[ ]{2,}\", \" \", spaces) \n",
    "print(spaces_out)"
   ]
  },
  {
   "cell_type": "markdown",
   "id": "9ef77dc7-246a-4a8d-81fc-f66321c7dec9",
   "metadata": {},
   "source": [
    "A variable is defined to store the string input from the user. `sub` is used to substitute 2 or more space characters with just one."
   ]
  }
 ],
 "metadata": {
  "kernelspec": {
   "display_name": "Python 3 (ipykernel)",
   "language": "python",
   "name": "python3"
  },
  "language_info": {
   "codemirror_mode": {
    "name": "ipython",
    "version": 3
   },
   "file_extension": ".py",
   "mimetype": "text/x-python",
   "name": "python",
   "nbconvert_exporter": "python",
   "pygments_lexer": "ipython3",
   "version": "3.9.13"
  }
 },
 "nbformat": 4,
 "nbformat_minor": 5
}
