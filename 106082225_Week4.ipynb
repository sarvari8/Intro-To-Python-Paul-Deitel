{
 "cells": [
  {
   "cell_type": "markdown",
   "id": "925f8e7e-3a94-477d-97ef-1ef3049e2251",
   "metadata": {},
   "source": [
    "## UID 106082225, Sarvari Pidaparty, MSBA'23"
   ]
  },
  {
   "cell_type": "markdown",
   "id": "7b265ae8-e174-4291-b4df-85b4d01d362e",
   "metadata": {},
   "source": [
    "Self - Assessment: I have done the required exercises and fully understand them."
   ]
  },
  {
   "cell_type": "markdown",
   "id": "2df987be-9920-4ad5-8112-2181b4dd5058",
   "metadata": {},
   "source": [
    "# 6.3 What Does This Code Do?\n",
    "The dictionary temperatures contains three Fahrenheit temperature samples for each of four days. What does the for statement do?\n",
    "       \n",
    "       temperatures = {\n",
    "           'Monday': [66, 70, 74],\n",
    "           'Tuesday': [50, 56, 64],\n",
    "           'Wednesday': [75, 80, 83],\n",
    "           'Thursday': [67, 74, 81]\n",
    "           }\n",
    "       for k, v in temperatures.items():\n",
    "           print(f'{k}: {sum(v)/len(v):.2f}')"
   ]
  },
  {
   "cell_type": "markdown",
   "id": "b0b0a455-7dcf-4cfd-aaf7-abee9b3163b8",
   "metadata": {},
   "source": [
    "The `for` statement prints out the average of the three temperature samples for each of the days of the week. Further, the temperatures are formatted to 2 decimal places. Below is the output:  "
   ]
  },
  {
   "cell_type": "code",
   "execution_count": 1,
   "id": "7eef744b-7040-4189-a451-e724509d3a41",
   "metadata": {},
   "outputs": [
    {
     "name": "stdout",
     "output_type": "stream",
     "text": [
      "Monday: 70.00\n",
      "Tuesday: 56.67\n",
      "Wednesday: 79.33\n",
      "Thursday: 74.00\n"
     ]
    }
   ],
   "source": [
    "temperatures = {\n",
    "           'Monday': [66, 70, 74],\n",
    "           'Tuesday': [50, 56, 64],\n",
    "           'Wednesday': [75, 80, 83],\n",
    "           'Thursday': [67, 74, 81]\n",
    "           }\n",
    "for k, v in temperatures.items():\n",
    "    print(f'{k}: {sum(v)/len(v):.2f}')"
   ]
  },
  {
   "cell_type": "markdown",
   "id": "1756ea73-23b8-47c2-ae46-229093245ee3",
   "metadata": {},
   "source": [
    "#"
   ]
  },
  {
   "cell_type": "markdown",
   "id": "c7c3f598-5f75-45d9-b2be-57cb18aff6bf",
   "metadata": {},
   "source": [
    "# 6.6 Duplicate Word Removal\n",
    "Write a function that receives a list of words, then determines and displays in alphabetical order only the unique words. Treat uppercase and lowercase letters the same. The function should use a set to get the unique words in the list. Test your function with several sentences."
   ]
  },
  {
   "cell_type": "code",
   "execution_count": 2,
   "id": "64ed9aa3-95e2-450d-893f-cdde208a3423",
   "metadata": {},
   "outputs": [],
   "source": [
    "def dupwords(words):\n",
    "    list1 = []\n",
    "    for i in words:\n",
    "        if i.lower() not in list1:\n",
    "            list1.append(i)      \n",
    "    list1.sort()\n",
    "    return list1"
   ]
  },
  {
   "cell_type": "code",
   "execution_count": 3,
   "id": "1539b1cf-1b64-481d-9eea-96a61e576e06",
   "metadata": {},
   "outputs": [
    {
     "data": {
      "text/plain": [
       "['mess', 'order', 'random']"
      ]
     },
     "execution_count": 3,
     "metadata": {},
     "output_type": "execute_result"
    }
   ],
   "source": [
    "dupwords(['order','mess','random','mess'])"
   ]
  },
  {
   "cell_type": "code",
   "execution_count": 4,
   "id": "8450d78e-5c8a-45ab-92ce-2ff6257a5601",
   "metadata": {},
   "outputs": [
    {
     "data": {
      "text/plain": [
       "['a', 'am', 'at', 'graduate', 'i', 'student', 'top', 'university']"
      ]
     },
     "execution_count": 4,
     "metadata": {},
     "output_type": "execute_result"
    }
   ],
   "source": [
    "dupwords(['i','am','a','graduate','student','at','a','top','university'])"
   ]
  },
  {
   "cell_type": "markdown",
   "id": "f78d04b9-32be-4bbe-9c57-449f5464f856",
   "metadata": {},
   "source": [
    "Function `dupwords` creates a list of the non-duplicate items in the entered list. We use a simple `for` loop to accomplish this task. For every item in the entered list, we check if it is already present in the new list we are creating. If it is not present, we add the item to our new list. Then we return our newly created list with no duplicates."
   ]
  },
  {
   "cell_type": "markdown",
   "id": "f57fd861-58d9-413b-9f87-12040a904b84",
   "metadata": {},
   "source": [
    "#"
   ]
  },
  {
   "cell_type": "markdown",
   "id": "62a09370-00f2-4413-b425-b84cc5d24337",
   "metadata": {},
   "source": [
    "# 6.9 Dictionary Manipulations\n",
    "Using the following dictionary, which maps country names to Internet top-level domains (TLDs):\n",
    "\n",
    "       tlds = {'Canada': 'ca', 'United States': 'us', 'Mexico': 'mx'}\n",
    "\n",
    "perform the following tasks and display the results:  \n",
    "a) Check whether the dictionary contains the key 'Canada'.  \n",
    "b) Check whether the dictionary contains the key 'France'.  \n",
    "c) Iterate through the key–value pairs and display them in two-column format.  \n",
    "d) Add the key–value pair 'Sweden' and 'sw' (which is incorrect).  \n",
    "e) Update the value for the key 'Sweden' to 'se'.  \n",
    "f) Use a dictionary comprehension to reverse the keys and values.  \n",
    "g) With the result of part(f), use a dictionary comprehension to convert the country names to all uppercase letters."
   ]
  },
  {
   "cell_type": "code",
   "execution_count": 5,
   "id": "19482ec6-1089-467b-84cc-7f3389e22c23",
   "metadata": {},
   "outputs": [
    {
     "data": {
      "text/plain": [
       "True"
      ]
     },
     "execution_count": 5,
     "metadata": {},
     "output_type": "execute_result"
    }
   ],
   "source": [
    "tlds = {'Canada': 'ca', 'United States': 'us', 'Mexico': 'mx'}\n",
    "'Canada' in tlds #a"
   ]
  },
  {
   "cell_type": "markdown",
   "id": "ec21041f-673d-4bf8-b156-641da0f8e925",
   "metadata": {},
   "source": [
    "`True` is returned so we know the dictionary contains the key `Canada`."
   ]
  },
  {
   "cell_type": "code",
   "execution_count": 6,
   "id": "64cdcebd-6691-40b5-89c0-a1c61234b8f6",
   "metadata": {},
   "outputs": [
    {
     "data": {
      "text/plain": [
       "False"
      ]
     },
     "execution_count": 6,
     "metadata": {},
     "output_type": "execute_result"
    }
   ],
   "source": [
    "'France' in tlds #b"
   ]
  },
  {
   "cell_type": "markdown",
   "id": "06049b9b-5b73-4c16-9aa8-1d31e259d595",
   "metadata": {},
   "source": [
    "`False` is returned, hence the dictionary does not contain the key `France`."
   ]
  },
  {
   "cell_type": "code",
   "execution_count": 7,
   "id": "c106ba06-fbb6-4b0c-9ad8-716a0485a398",
   "metadata": {},
   "outputs": [
    {
     "name": "stdout",
     "output_type": "stream",
     "text": [
      "        Country    |     Code\n",
      "         Canada          ca\n",
      "  United States          us\n",
      "         Mexico          mx\n"
     ]
    }
   ],
   "source": [
    "print(f'        Country    |     Code')\n",
    "for country, code in tlds.items():\n",
    "    print(f'{country:>15} {code:>11}') #c"
   ]
  },
  {
   "cell_type": "markdown",
   "id": "08a78e59-7228-45af-bb5e-97924a8fb634",
   "metadata": {},
   "source": [
    "A simple `for` loop is executed to access the keys and values in `tlds`, which are printed in a column format using the format statement."
   ]
  },
  {
   "cell_type": "code",
   "execution_count": 8,
   "id": "a54171a4-21f1-41f5-a332-f755cdb8482f",
   "metadata": {},
   "outputs": [
    {
     "data": {
      "text/plain": [
       "{'Canada': 'ca', 'United States': 'us', 'Mexico': 'mx', 'Sweden': 'sw'}"
      ]
     },
     "execution_count": 8,
     "metadata": {},
     "output_type": "execute_result"
    }
   ],
   "source": [
    "tlds['Sweden'] = 'sw'\n",
    "tlds #d"
   ]
  },
  {
   "cell_type": "markdown",
   "id": "df602c86-1779-4142-bb77-2f85275e552d",
   "metadata": {},
   "source": [
    "Simple syntax to add a new key and value to an existing dictionary."
   ]
  },
  {
   "cell_type": "code",
   "execution_count": 9,
   "id": "9c8e13f0-d42b-43a0-97a4-12ec59c7f3db",
   "metadata": {},
   "outputs": [
    {
     "data": {
      "text/plain": [
       "{'Canada': 'ca', 'United States': 'us', 'Mexico': 'mx', 'Sweden': 'se'}"
      ]
     },
     "execution_count": 9,
     "metadata": {},
     "output_type": "execute_result"
    }
   ],
   "source": [
    "tlds['Sweden'] = 'se'\n",
    "tlds #e"
   ]
  },
  {
   "cell_type": "markdown",
   "id": "c47b8cca-30b0-4631-aaae-0abfeac6229c",
   "metadata": {},
   "source": [
    "Similar syntax as (d) to update value in the dictionary."
   ]
  },
  {
   "cell_type": "code",
   "execution_count": 10,
   "id": "46570921-4fcf-42c2-92b3-0cd340824900",
   "metadata": {},
   "outputs": [
    {
     "data": {
      "text/plain": [
       "{'ca': 'Canada', 'us': 'United States', 'mx': 'Mexico', 'se': 'Sweden'}"
      ]
     },
     "execution_count": 10,
     "metadata": {},
     "output_type": "execute_result"
    }
   ],
   "source": [
    "tlds_rev = {code:country for country, code in tlds.items()}\n",
    "tlds_rev #f"
   ]
  },
  {
   "cell_type": "markdown",
   "id": "1b2567fb-49f9-46e8-995b-485334ec6527",
   "metadata": {},
   "source": [
    "Using `dictionary comprehension`, we unpack the keys and tuples by iterating through them and the expression code:country reverses the key-value tuple."
   ]
  },
  {
   "cell_type": "code",
   "execution_count": 11,
   "id": "7249d4f1-368e-4b2b-af25-e6e3867c5143",
   "metadata": {},
   "outputs": [
    {
     "data": {
      "text/plain": [
       "{'ca': 'CANADA', 'us': 'UNITED STATES', 'mx': 'MEXICO', 'se': 'SWEDEN'}"
      ]
     },
     "execution_count": 11,
     "metadata": {},
     "output_type": "execute_result"
    }
   ],
   "source": [
    "tlds_g = {code:country.upper() for code, country in tlds_rev.items()}\n",
    "tlds_g #g"
   ]
  },
  {
   "cell_type": "markdown",
   "id": "1b62db2d-85f8-41e1-b5c5-9dda69e16d1d",
   "metadata": {},
   "source": [
    "#"
   ]
  },
  {
   "cell_type": "markdown",
   "id": "a1f729ba-ef7c-4e52-810c-3316f91d19b0",
   "metadata": {},
   "source": [
    "# 7.2 Broadcasting\n",
    "Use arange to create a 2-by-2 array containing the numbers 0–3. Use broadcasting to perform each of the following operations on the original array:  \n",
    "a) Cube every element of the array.  \n",
    "b) Add 7 to every element of the array.  \n",
    "c) Multiply every element of the array by 2."
   ]
  },
  {
   "cell_type": "code",
   "execution_count": 12,
   "id": "6ed80044-8213-4953-81a4-ee8cccb833b2",
   "metadata": {},
   "outputs": [
    {
     "data": {
      "text/plain": [
       "array([[0, 1],\n",
       "       [2, 3]])"
      ]
     },
     "execution_count": 12,
     "metadata": {},
     "output_type": "execute_result"
    }
   ],
   "source": [
    "import numpy as np\n",
    "num = np.arange(0, 4).reshape(2,2)\n",
    "num "
   ]
  },
  {
   "cell_type": "code",
   "execution_count": 13,
   "id": "3f0dae82-8f57-46ef-b61b-f69362656da8",
   "metadata": {},
   "outputs": [
    {
     "data": {
      "text/plain": [
       "array([[ 0,  1],\n",
       "       [ 8, 27]])"
      ]
     },
     "execution_count": 13,
     "metadata": {},
     "output_type": "execute_result"
    }
   ],
   "source": [
    "num**3 #a"
   ]
  },
  {
   "cell_type": "code",
   "execution_count": 14,
   "id": "301fc2aa-5c31-4282-bd52-b28ae1f5d182",
   "metadata": {},
   "outputs": [
    {
     "data": {
      "text/plain": [
       "array([[ 7,  8],\n",
       "       [ 9, 10]])"
      ]
     },
     "execution_count": 14,
     "metadata": {},
     "output_type": "execute_result"
    }
   ],
   "source": [
    "num + 7 #b"
   ]
  },
  {
   "cell_type": "code",
   "execution_count": 15,
   "id": "0a8de213-d4f1-4090-adc6-2b310995a049",
   "metadata": {},
   "outputs": [
    {
     "data": {
      "text/plain": [
       "array([[0, 2],\n",
       "       [4, 6]])"
      ]
     },
     "execution_count": 15,
     "metadata": {},
     "output_type": "execute_result"
    }
   ],
   "source": [
    "num*2 #c"
   ]
  },
  {
   "cell_type": "markdown",
   "id": "2547df1c-bb73-48b0-978b-607d1bacac96",
   "metadata": {},
   "source": [
    "`Arange` is used to first create a 2 by 2 array with numbers 0-3. \n",
    "Array arithmetic operations are used to accomplish the mentioned tasks - cube, add and multiply to the original array."
   ]
  },
  {
   "cell_type": "markdown",
   "id": "e95e1026-ec0a-4c26-85d9-6c9eb1de2928",
   "metadata": {},
   "source": [
    "#"
   ]
  },
  {
   "cell_type": "markdown",
   "id": "2093dbad-a068-4546-bbe0-af640a9e9215",
   "metadata": {},
   "source": [
    "# 7.3 Element-Wise Array Multiplication\n",
    "Create a 3-by-3 array containing the even integers from 2 through 18. Create a second 3-by-3 array containing the integers from 9 down to 1, then multiply the first array by the second."
   ]
  },
  {
   "cell_type": "code",
   "execution_count": 16,
   "id": "38e9be22-7682-472d-8bae-69fa9a56cb6a",
   "metadata": {},
   "outputs": [
    {
     "data": {
      "text/plain": [
       "array([[18, 32, 42],\n",
       "       [48, 50, 48],\n",
       "       [42, 32, 18]])"
      ]
     },
     "execution_count": 16,
     "metadata": {},
     "output_type": "execute_result"
    }
   ],
   "source": [
    "import numpy as np\n",
    "array1 = np.arange(1,10).reshape(3,3)\n",
    "array2 = array1 * 2\n",
    "array3 = np.arange(9,0,-1).reshape(3,3)\n",
    "array2 * array3"
   ]
  },
  {
   "cell_type": "markdown",
   "id": "05228d21-f832-46be-80af-c1c5b4eb46b7",
   "metadata": {},
   "source": [
    "`array2` is created by multiplying `array1` by 2 - which is created using `arange` to generate a 3x3 array with numbers 1 through 9.\n",
    "`array3` is created using `arange` as well, but counting down from 9 to 0.\n",
    "The arrays are then simple multiplied to obtain the result."
   ]
  },
  {
   "cell_type": "markdown",
   "id": "3350e3f8-bd40-4052-8058-facbbbf17307",
   "metadata": {},
   "source": [
    "#"
   ]
  },
  {
   "cell_type": "markdown",
   "id": "12f927ca-cbfd-417d-a632-1658936ba5a8",
   "metadata": {},
   "source": [
    "# 7.9 Indexing and Slicing arrays\n",
    "Create an array containing the values 1–15, reshape it into a 3-by-5 array, then use indexing and slicing techniques to perform each of the following operations:  \n",
    "a) Select row 2.  \n",
    "b) Select column 5.  \n",
    "c) Select rows 0 and 1.  \n",
    "d) Select columns 2–4.  \n",
    "e) Select the element that is in row 1 and column 4.  \n",
    "f) Select all elements from rows 1 and 2 that are in columns 0, 2 and 4."
   ]
  },
  {
   "cell_type": "code",
   "execution_count": 17,
   "id": "a2276c8e-b9af-4ab1-aee3-9913d9be1ab4",
   "metadata": {},
   "outputs": [
    {
     "data": {
      "text/plain": [
       "array([[ 1,  2,  3,  4,  5],\n",
       "       [ 6,  7,  8,  9, 10],\n",
       "       [11, 12, 13, 14, 15]])"
      ]
     },
     "execution_count": 17,
     "metadata": {},
     "output_type": "execute_result"
    }
   ],
   "source": [
    "import numpy as np\n",
    "arrayind = np.arange(1,16).reshape(3,5)\n",
    "arrayind"
   ]
  },
  {
   "cell_type": "code",
   "execution_count": 18,
   "id": "79d34270-ec63-4f21-abd0-b9c0ff74fa97",
   "metadata": {},
   "outputs": [
    {
     "data": {
      "text/plain": [
       "array([ 6,  7,  8,  9, 10])"
      ]
     },
     "execution_count": 18,
     "metadata": {},
     "output_type": "execute_result"
    }
   ],
   "source": [
    "arrayind[1] #a"
   ]
  },
  {
   "cell_type": "code",
   "execution_count": 19,
   "id": "7ae7c618-8b4a-4cc2-b1cb-9848c91629b1",
   "metadata": {},
   "outputs": [
    {
     "data": {
      "text/plain": [
       "array([ 5, 10, 15])"
      ]
     },
     "execution_count": 19,
     "metadata": {},
     "output_type": "execute_result"
    }
   ],
   "source": [
    "arrayind[:,4] #b"
   ]
  },
  {
   "cell_type": "code",
   "execution_count": 20,
   "id": "731c95de-8d58-4b53-b847-549050544798",
   "metadata": {},
   "outputs": [
    {
     "data": {
      "text/plain": [
       "array([[ 1,  2,  3,  4,  5],\n",
       "       [ 6,  7,  8,  9, 10]])"
      ]
     },
     "execution_count": 20,
     "metadata": {},
     "output_type": "execute_result"
    }
   ],
   "source": [
    "arrayind[0:2] #c (assumed indices 0 to 2)"
   ]
  },
  {
   "cell_type": "code",
   "execution_count": 21,
   "id": "4896a8a8-831f-4d9a-b041-f7fb47558635",
   "metadata": {},
   "outputs": [
    {
     "data": {
      "text/plain": [
       "array([[ 2,  3],\n",
       "       [ 7,  8],\n",
       "       [12, 13]])"
      ]
     },
     "execution_count": 21,
     "metadata": {},
     "output_type": "execute_result"
    }
   ],
   "source": [
    "arrayind[:,1:3] #d"
   ]
  },
  {
   "cell_type": "code",
   "execution_count": 22,
   "id": "0ec07aaf-ed53-4bd6-99b8-61d13552cf4e",
   "metadata": {},
   "outputs": [
    {
     "data": {
      "text/plain": [
       "4"
      ]
     },
     "execution_count": 22,
     "metadata": {},
     "output_type": "execute_result"
    }
   ],
   "source": [
    "arrayind[0,3] #e"
   ]
  },
  {
   "cell_type": "code",
   "execution_count": 23,
   "id": "e53d1080-8273-41f0-91e0-e0d8f5773f3e",
   "metadata": {},
   "outputs": [
    {
     "data": {
      "text/plain": [
       "array([[ 1,  3,  5],\n",
       "       [ 6,  8, 10]])"
      ]
     },
     "execution_count": 23,
     "metadata": {},
     "output_type": "execute_result"
    }
   ],
   "source": [
    "arrayind[0:2,[0,2,4]] #f"
   ]
  },
  {
   "cell_type": "markdown",
   "id": "60321b9e-6e99-407e-a1d7-1ecfec604252",
   "metadata": {},
   "source": [
    "#"
   ]
  },
  {
   "cell_type": "markdown",
   "id": "399aa4ef-56dc-4194-bf73-bffa64e3fd69",
   "metadata": {},
   "source": [
    "# 7.14 Horizontal and Vertical Stacking\n",
    "Create the two-dimensional arrays \n",
    "\n",
    "        array1 = np.array([[0, 1], [2, 3]])\n",
    "\n",
    "        array2 = np.array([[4, 5], [6, 7]])\n",
    "\n",
    "a) Use vertical stacking to create the 4-by-2 array named array3 with array1 stacked on top of array2.  \n",
    "b) Use horizontal stacking to create the 2-by-4 array named array4 with array2 to the right of array1.  \n",
    "c) Use vertical stacking with two copies of array4 to create a 4-by-4 array5.  \n",
    "d) Use horizontal stacking with two copies of array3 to create a 4-by-4 array6."
   ]
  },
  {
   "cell_type": "code",
   "execution_count": 24,
   "id": "be351450-ff9c-43ac-9dad-6ae6616169c3",
   "metadata": {},
   "outputs": [],
   "source": [
    "array1 = np.array([[0, 1], [2, 3]])\n",
    "array2 = np.array([[4, 5], [6, 7]])"
   ]
  },
  {
   "cell_type": "code",
   "execution_count": 25,
   "id": "cac09a4f-2719-4a07-9fdb-b1f57c339170",
   "metadata": {},
   "outputs": [
    {
     "data": {
      "text/plain": [
       "array([[0, 1],\n",
       "       [2, 3],\n",
       "       [4, 5],\n",
       "       [6, 7]])"
      ]
     },
     "execution_count": 25,
     "metadata": {},
     "output_type": "execute_result"
    }
   ],
   "source": [
    "array3 = np.vstack((array1, array2))\n",
    "array3 #a"
   ]
  },
  {
   "cell_type": "code",
   "execution_count": 26,
   "id": "4622eabb-b519-44ec-85d3-5f9091273d65",
   "metadata": {},
   "outputs": [
    {
     "data": {
      "text/plain": [
       "array([[0, 1, 4, 5],\n",
       "       [2, 3, 6, 7]])"
      ]
     },
     "execution_count": 26,
     "metadata": {},
     "output_type": "execute_result"
    }
   ],
   "source": [
    "array4 = np.hstack((array1, array2))\n",
    "array4 #b"
   ]
  },
  {
   "cell_type": "code",
   "execution_count": 27,
   "id": "4d694de9-1f4a-4f12-bb53-78cf72c1a41f",
   "metadata": {},
   "outputs": [
    {
     "data": {
      "text/plain": [
       "array([[0, 1, 4, 5],\n",
       "       [2, 3, 6, 7],\n",
       "       [0, 1, 4, 5],\n",
       "       [2, 3, 6, 7]])"
      ]
     },
     "execution_count": 27,
     "metadata": {},
     "output_type": "execute_result"
    }
   ],
   "source": [
    "array5 = np.vstack((array4, array4))\n",
    "array5 #c"
   ]
  },
  {
   "cell_type": "code",
   "execution_count": 28,
   "id": "186d942a-fdcf-42e3-932b-d9f9d48200d4",
   "metadata": {},
   "outputs": [
    {
     "data": {
      "text/plain": [
       "array([[0, 1, 0, 1],\n",
       "       [2, 3, 2, 3],\n",
       "       [4, 5, 4, 5],\n",
       "       [6, 7, 6, 7]])"
      ]
     },
     "execution_count": 28,
     "metadata": {},
     "output_type": "execute_result"
    }
   ],
   "source": [
    "array6 = np.hstack((array3, array3))\n",
    "array6 #d"
   ]
  },
  {
   "cell_type": "markdown",
   "id": "6e9e1247-7862-4edf-8414-ef7a7e3c1f90",
   "metadata": {},
   "source": [
    "`np.vstack` and `np.hstack` are used to stack arrays as per each question."
   ]
  }
 ],
 "metadata": {
  "kernelspec": {
   "display_name": "Python 3 (ipykernel)",
   "language": "python",
   "name": "python3"
  },
  "language_info": {
   "codemirror_mode": {
    "name": "ipython",
    "version": 3
   },
   "file_extension": ".py",
   "mimetype": "text/x-python",
   "name": "python",
   "nbconvert_exporter": "python",
   "pygments_lexer": "ipython3",
   "version": "3.9.13"
  }
 },
 "nbformat": 4,
 "nbformat_minor": 5
}
