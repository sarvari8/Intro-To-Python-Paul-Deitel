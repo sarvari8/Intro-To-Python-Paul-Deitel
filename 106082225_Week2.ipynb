{
 "cells": [
  {
   "cell_type": "markdown",
   "id": "6f27a2ff-b837-4543-aae1-c333d6685875",
   "metadata": {},
   "source": [
    "### UID 106082225, Sarvari Pidaparty, MSBA'23"
   ]
  },
  {
   "cell_type": "markdown",
   "id": "118cccdc-c093-4638-adf4-386180aeb859",
   "metadata": {},
   "source": [
    "Self - Assessment: I have done the required exercises and fully understand them."
   ]
  },
  {
   "cell_type": "markdown",
   "id": "6f661c33-1bfe-468a-acf2-d9bf1e322f47",
   "metadata": {},
   "source": [
    "# 3.10 7% Investment Return\n",
    "Reimplement Exercise 2.12 to use a loop that calculates and displays the amount of money you’ll have each year at the ends of years 1 through 30.\n"
   ]
  },
  {
   "cell_type": "code",
   "execution_count": 1,
   "id": "641e9d47-b66a-4cb3-9564-25d39b7827da",
   "metadata": {},
   "outputs": [],
   "source": [
    "principal = 1000.00"
   ]
  },
  {
   "cell_type": "code",
   "execution_count": 2,
   "id": "edd66cbe-323b-4c74-9d44-5af87a76ad3e",
   "metadata": {},
   "outputs": [],
   "source": [
    "rate = 0.07"
   ]
  },
  {
   "cell_type": "markdown",
   "id": "2e976f2e-b135-46b6-934a-ad763a37fd50",
   "metadata": {},
   "source": [
    "First we declare the two values that we know, the principal or initial amount invested `principal`, and the annual rate of return `rate`."
   ]
  },
  {
   "cell_type": "code",
   "execution_count": 3,
   "id": "d630ede7-bf85-4565-b9e4-f263e4ba1751",
   "metadata": {},
   "outputs": [
    {
     "name": "stdout",
     "output_type": "stream",
     "text": [
      " 1   1070.00\n",
      " 2   1144.90\n",
      " 3   1225.04\n",
      " 4   1310.80\n",
      " 5   1402.55\n",
      " 6   1500.73\n",
      " 7   1605.78\n",
      " 8   1718.19\n",
      " 9   1838.46\n",
      "10   1967.15\n",
      "11   2104.85\n",
      "12   2252.19\n",
      "13   2409.85\n",
      "14   2578.53\n",
      "15   2759.03\n",
      "16   2952.16\n",
      "17   3158.82\n",
      "18   3379.93\n",
      "19   3616.53\n",
      "20   3869.68\n",
      "21   4140.56\n",
      "22   4430.40\n",
      "23   4740.53\n",
      "24   5072.37\n",
      "25   5427.43\n",
      "26   5807.35\n",
      "27   6213.87\n",
      "28   6648.84\n",
      "29   7114.26\n",
      "30   7612.26\n"
     ]
    }
   ],
   "source": [
    "for year in range (1,31):\n",
    "    amount = principal * (1 + rate) ** year\n",
    "    print(f'{year:>2}{amount:>10.2f}')"
   ]
  },
  {
   "cell_type": "markdown",
   "id": "0491485d-4afc-4cfc-96b5-51be7e1b521c",
   "metadata": {},
   "source": [
    "We use a simple `for` loop to print the amount you will have at the end of each year. We define a `range` so we get the amounts for years 1 through 30 printed.\n",
    "We can also format the amounts to 2 decimal places, and align the results to look aesthetic."
   ]
  },
  {
   "cell_type": "markdown",
   "id": "800d7a36-6a6c-459e-b476-75fb7e30ed33",
   "metadata": {},
   "source": [
    "###"
   ]
  },
  {
   "cell_type": "markdown",
   "id": "16749f73-6ce7-4900-8d38-18bafef96160",
   "metadata": {},
   "source": [
    "# 3.13 Data Science: Factorials\n",
    "Factorial calculations are common in probability. The factorial of a nonnegative integer n is written n! (pronounced “n factorial”) and is defined as follows:\n",
    "n! = n · (n - 1) · (n - 2) · … · 1\n",
    "for values of n greater than or equal to 1, with 0! defined to be 1. So, \n",
    "5! = 5 · 4 · 3 · 2 · 1 \n",
    "which is 120. Factorials increase in size very rapidly. Write a script that inputs a nonnegative integer and computes and displays its factorial. Try your script on the integers 10, 20, 30 and even larger values. Did you find any integer input for which Python could not produce an integer factorial value?\n"
   ]
  },
  {
   "cell_type": "code",
   "execution_count": 4,
   "id": "231730e9-b31a-4419-b898-19e3cfc0d002",
   "metadata": {},
   "outputs": [
    {
     "name": "stdin",
     "output_type": "stream",
     "text": [
      "Enter a non-negative integer:  20\n"
     ]
    }
   ],
   "source": [
    "integer = int(input('Enter a non-negative integer: '))"
   ]
  },
  {
   "cell_type": "code",
   "execution_count": 5,
   "id": "69af8959-7721-41fe-8ddb-5538d3dc0087",
   "metadata": {},
   "outputs": [
    {
     "name": "stdout",
     "output_type": "stream",
     "text": [
      "The factorial of 20 is 2432902008176640000\n"
     ]
    }
   ],
   "source": [
    "if integer < 0:\n",
    "    print('Invalid input')\n",
    "    \n",
    "else:\n",
    "    factorial = 1    \n",
    "    for i in range (integer, 1, -1):\n",
    "        factorial = factorial * i\n",
    "    print('The factorial of', integer, 'is', factorial)"
   ]
  },
  {
   "cell_type": "markdown",
   "id": "f2a52dfb-d56a-43b2-8bcc-7a2b04e9d739",
   "metadata": {},
   "source": [
    "We take the integer input from the user and store it in the variable `integer`.\n",
    "An `if-else` loop is written to indicate that the input is invalid if a negative integer is entered.\n",
    "A `for` loop computes the factorial by multiplying the integer with all integers from integer to one, counting down one at a time.\n",
    "Even very large factorial values are computed by Python."
   ]
  },
  {
   "cell_type": "markdown",
   "id": "053f9f94-543a-420d-a6b8-15537b196dc8",
   "metadata": {},
   "source": [
    "#"
   ]
  },
  {
   "cell_type": "markdown",
   "id": "d3d347e1-3e89-423a-8830-3a1986365fbb",
   "metadata": {},
   "source": [
    "# 3.31 Data Science: Categorical Data\n",
    "Mean, median and mode work well with numerical values. You can use them in calculations and arrange them in meaningful order. Categorical values are descriptive names like Boxer, Poodle, Collie, Beagle, Bulldog and Chihuahua. Normally, you don’t use these in calculations nor associate an order with them. Which if any of the descriptive statistics are appropriate for categorical data?\n"
   ]
  },
  {
   "cell_type": "markdown",
   "id": "96e256d7-e934-4e35-b1ea-4a595b57fe97",
   "metadata": {},
   "source": [
    "`Mode` would be an appropriate measure for descriptive names and categorical values since it measures the frequency of each categorical value and reports the one with the highest frequency. `Mean` and `median`, even variance and skewness for descriptive values could not be calculated, as they have mathematical formulae and it would simply not make sense."
   ]
  },
  {
   "cell_type": "markdown",
   "id": "76c6af51-e260-4568-94e2-83cba0f3dcba",
   "metadata": {},
   "source": [
    "#"
   ]
  },
  {
   "cell_type": "markdown",
   "id": "7e841b1e-dd04-45f8-92cb-670daf9eedfa",
   "metadata": {},
   "source": [
    "# 3.17 Nested Loops \n",
    "Write a script that displays the following triangle patterns separately, one below the other. Separate each pattern from the next by one blank line. Use for loops to generate the patterns. Display all asterisks (*) with a single statement of the form\n",
    "print(' * ', end = '')\n",
    "which causes the asterisks to display side by side. [Hint: For the last two patterns, begin each line with zero or more space characters.]\n"
   ]
  },
  {
   "cell_type": "markdown",
   "id": "b5e72bd0-af27-40c3-ac01-dacd289a56dd",
   "metadata": {},
   "source": [
    "#### (a)"
   ]
  },
  {
   "cell_type": "code",
   "execution_count": 6,
   "id": "3f522602-e101-4527-9433-1f38190fdab4",
   "metadata": {},
   "outputs": [
    {
     "name": "stdout",
     "output_type": "stream",
     "text": [
      "*\n",
      "**\n",
      "***\n",
      "****\n",
      "*****\n",
      "******\n",
      "*******\n",
      "********\n",
      "*********\n",
      "**********\n"
     ]
    }
   ],
   "source": [
    "for i in range (0, 10):\n",
    "    for j in range (0, i+1):\n",
    "        print('*', end = '')\n",
    "        #print(i,j)\n",
    "    print('\\r')"
   ]
  },
  {
   "cell_type": "markdown",
   "id": "dc9e4cdd-21b0-47c3-a985-4ca728c18eb3",
   "metadata": {},
   "source": [
    "We use a `nested for loop`, the outer loop counts the number of rows and the inner loop prints the required number of asterisks in each row - as `i` counts the row number, `j` counts the number of asterisks in i'th row, which would be `i + 1`. `/r` is used to move to a new row each time the inner loop is fully executed."
   ]
  },
  {
   "cell_type": "markdown",
   "id": "d16da6da-c6a4-428d-8340-18e45329deb1",
   "metadata": {},
   "source": [
    "#### (b)"
   ]
  },
  {
   "cell_type": "code",
   "execution_count": 7,
   "id": "01af55de-1ca0-4c46-acbe-278fd7075d68",
   "metadata": {},
   "outputs": [
    {
     "name": "stdout",
     "output_type": "stream",
     "text": [
      "**********\n",
      "*********\n",
      "********\n",
      "*******\n",
      "******\n",
      "*****\n",
      "****\n",
      "***\n",
      "**\n",
      "*\n"
     ]
    }
   ],
   "source": [
    "for i in range (0, 10):\n",
    "    for j in range (0, 10-i):\n",
    "        print('*', end = '')\n",
    "    print('\\r')"
   ]
  },
  {
   "cell_type": "markdown",
   "id": "45e71460-7df5-4e9e-b5bd-2117ee38a24d",
   "metadata": {},
   "source": [
    "The outer loop counts the row numbers, and the inner loop helps print the required number of asterisks in each row. Similar to the above program, but `j` counts the number of asterisks in i'th row which would be `10 - i`. `/r` moves to a new row each time the inner loop is executed fully."
   ]
  },
  {
   "cell_type": "markdown",
   "id": "ef4ddfad-0208-42c2-a450-af7398348ffe",
   "metadata": {},
   "source": [
    "#### (c)"
   ]
  },
  {
   "cell_type": "code",
   "execution_count": 8,
   "id": "5a349d16-f3b3-4259-8b2c-ba4f8bc7c776",
   "metadata": {},
   "outputs": [
    {
     "name": "stdout",
     "output_type": "stream",
     "text": [
      "**********\n",
      " *********\n",
      "  ********\n",
      "   *******\n",
      "    ******\n",
      "     *****\n",
      "      ****\n",
      "       ***\n",
      "        **\n",
      "         *\n"
     ]
    }
   ],
   "source": [
    "for i in range (0, 10):\n",
    "    for j in range (0, i):\n",
    "        print(' ', end = '')\n",
    "    for k in range (0, 10-i):\n",
    "        print('*', end = '')\n",
    "    print('\\r')"
   ]
  },
  {
   "cell_type": "markdown",
   "id": "1ce6a789-5036-46c0-9d0d-2d21461325ff",
   "metadata": {},
   "source": [
    "Here the outer loop counts the row numbers and the inner loop first prints a number of spaces (equal to the row number) before printing asterisks in i'th row equal to `10 - i`."
   ]
  },
  {
   "cell_type": "markdown",
   "id": "36f84eca-e31d-4379-91a8-6c3fbac4eb14",
   "metadata": {},
   "source": [
    "#### (d)"
   ]
  },
  {
   "cell_type": "code",
   "execution_count": 9,
   "id": "d3daa24a-2da2-4ef3-85d4-73994c46fa5a",
   "metadata": {},
   "outputs": [
    {
     "name": "stdout",
     "output_type": "stream",
     "text": [
      "          *\n",
      "         **\n",
      "        ***\n",
      "       ****\n",
      "      *****\n",
      "     ******\n",
      "    *******\n",
      "   ********\n",
      "  *********\n",
      " **********\n"
     ]
    }
   ],
   "source": [
    "for i in range (0, 10):\n",
    "    for j in range (0, 10-i):\n",
    "        print(' ', end = '')\n",
    "    for k in range (0, i+1):\n",
    "        print('*', end = '')\n",
    "    print('\\r')"
   ]
  },
  {
   "cell_type": "markdown",
   "id": "39b09e4e-55e2-44b0-bd21-e736e010d5b9",
   "metadata": {},
   "source": [
    "The outer loop counts the row numbers, the inner loop first prints `10 - i` spaces for i'th row, then `i + 1` asterisks."
   ]
  },
  {
   "cell_type": "markdown",
   "id": "14315dde-9820-4088-ad68-776a3a4abab5",
   "metadata": {},
   "source": [
    "#"
   ]
  },
  {
   "cell_type": "markdown",
   "id": "3681d7d3-cee2-4bc2-b7d9-6b9c010d9d69",
   "metadata": {},
   "source": [
    "# 3.26 Research: Anscombe’s Quartet\n",
    "In this book’s data science case studies, we’ll emphasize the importance of “getting to know your data.” The basic descriptive statistics that you’ve seen in this chapter’s and the previous chapter’s Intro to Data Science sections certainly help you know more about your data. One caution, though, is that different datasets can have identical or nearly identical descriptive statistics and yet the data can be significantly different. For an example of this phenomenon, research Anscombe’s Quartet. You should find four datasets and the associated visualizations. It’s the visualizations that convince you the datasets are quite different. In an exercise in a later chapter, you’ll create these visualizations."
   ]
  },
  {
   "cell_type": "markdown",
   "id": "1e598ca8-11cb-42ee-82a9-14ab40715182",
   "metadata": {},
   "source": [
    "Anscombe's Quartet describes four different data sets that all have different values and are distributed in different ways but have identical values of descriptive statistics. It goes to show that the statistics of a dataset don't necessarily tell you everything about the dataset, and the graphical representation of datasets may add more insight rather than just the statistic properties."
   ]
  },
  {
   "cell_type": "code",
   "execution_count": null,
   "id": "5939e91d-041e-4c78-8b75-171fe794e07d",
   "metadata": {},
   "outputs": [],
   "source": []
  }
 ],
 "metadata": {
  "kernelspec": {
   "display_name": "Python 3 (ipykernel)",
   "language": "python",
   "name": "python3"
  },
  "language_info": {
   "codemirror_mode": {
    "name": "ipython",
    "version": 3
   },
   "file_extension": ".py",
   "mimetype": "text/x-python",
   "name": "python",
   "nbconvert_exporter": "python",
   "pygments_lexer": "ipython3",
   "version": "3.9.13"
  }
 },
 "nbformat": 4,
 "nbformat_minor": 5
}
