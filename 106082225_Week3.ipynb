{
 "cells": [
  {
   "cell_type": "markdown",
   "id": "031ae9ea-6cfe-48b1-bd9d-6dc89dd3668a",
   "metadata": {},
   "source": [
    "### UID 106082225, Sarvari Pidaparty, MSBA'23"
   ]
  },
  {
   "cell_type": "markdown",
   "id": "249c3b7f-0dd1-4386-b749-5755dd5a6ae4",
   "metadata": {},
   "source": [
    "Self - Assessment: I have done the required exercises and fully understand them.\n"
   ]
  },
  {
   "cell_type": "markdown",
   "id": "3982b4e0-878c-4581-bced-6dfa01fb33b0",
   "metadata": {},
   "source": [
    "# 4.9 Data Science: Temperature Conversion\n",
    "Implement a fahrenheit function that returns the Fahrenheit equivalent of a Celsius temperature. Use the following formula:\n",
    "F = (9 / 5) * C + 32\n",
    "Use this function to print a chart showing the Fahrenheit equivalents of all Celsius temperatures in the range 0–100 degrees. Use one digit of precision for the results. Print the outputs in a neat tabular format."
   ]
  },
  {
   "cell_type": "code",
   "execution_count": 1,
   "id": "c6444cd8-0d84-4319-a7c8-5cb7ffae6fa0",
   "metadata": {},
   "outputs": [
    {
     "name": "stdout",
     "output_type": "stream",
     "text": [
      "  0 Celsius =  32.0 Fahrenheit\n",
      "  1 Celsius =  33.8 Fahrenheit\n",
      "  2 Celsius =  35.6 Fahrenheit\n",
      "  3 Celsius =  37.4 Fahrenheit\n",
      "  4 Celsius =  39.2 Fahrenheit\n",
      "  5 Celsius =  41.0 Fahrenheit\n",
      "  6 Celsius =  42.8 Fahrenheit\n",
      "  7 Celsius =  44.6 Fahrenheit\n",
      "  8 Celsius =  46.4 Fahrenheit\n",
      "  9 Celsius =  48.2 Fahrenheit\n",
      " 10 Celsius =  50.0 Fahrenheit\n",
      " 11 Celsius =  51.8 Fahrenheit\n",
      " 12 Celsius =  53.6 Fahrenheit\n",
      " 13 Celsius =  55.4 Fahrenheit\n",
      " 14 Celsius =  57.2 Fahrenheit\n",
      " 15 Celsius =  59.0 Fahrenheit\n",
      " 16 Celsius =  60.8 Fahrenheit\n",
      " 17 Celsius =  62.6 Fahrenheit\n",
      " 18 Celsius =  64.4 Fahrenheit\n",
      " 19 Celsius =  66.2 Fahrenheit\n",
      " 20 Celsius =  68.0 Fahrenheit\n",
      " 21 Celsius =  69.8 Fahrenheit\n",
      " 22 Celsius =  71.6 Fahrenheit\n",
      " 23 Celsius =  73.4 Fahrenheit\n",
      " 24 Celsius =  75.2 Fahrenheit\n",
      " 25 Celsius =  77.0 Fahrenheit\n",
      " 26 Celsius =  78.8 Fahrenheit\n",
      " 27 Celsius =  80.6 Fahrenheit\n",
      " 28 Celsius =  82.4 Fahrenheit\n",
      " 29 Celsius =  84.2 Fahrenheit\n",
      " 30 Celsius =  86.0 Fahrenheit\n",
      " 31 Celsius =  87.8 Fahrenheit\n",
      " 32 Celsius =  89.6 Fahrenheit\n",
      " 33 Celsius =  91.4 Fahrenheit\n",
      " 34 Celsius =  93.2 Fahrenheit\n",
      " 35 Celsius =  95.0 Fahrenheit\n",
      " 36 Celsius =  96.8 Fahrenheit\n",
      " 37 Celsius =  98.6 Fahrenheit\n",
      " 38 Celsius = 100.4 Fahrenheit\n",
      " 39 Celsius = 102.2 Fahrenheit\n",
      " 40 Celsius = 104.0 Fahrenheit\n",
      " 41 Celsius = 105.8 Fahrenheit\n",
      " 42 Celsius = 107.6 Fahrenheit\n",
      " 43 Celsius = 109.4 Fahrenheit\n",
      " 44 Celsius = 111.2 Fahrenheit\n",
      " 45 Celsius = 113.0 Fahrenheit\n",
      " 46 Celsius = 114.8 Fahrenheit\n",
      " 47 Celsius = 116.6 Fahrenheit\n",
      " 48 Celsius = 118.4 Fahrenheit\n",
      " 49 Celsius = 120.2 Fahrenheit\n",
      " 50 Celsius = 122.0 Fahrenheit\n",
      " 51 Celsius = 123.8 Fahrenheit\n",
      " 52 Celsius = 125.6 Fahrenheit\n",
      " 53 Celsius = 127.4 Fahrenheit\n",
      " 54 Celsius = 129.2 Fahrenheit\n",
      " 55 Celsius = 131.0 Fahrenheit\n",
      " 56 Celsius = 132.8 Fahrenheit\n",
      " 57 Celsius = 134.6 Fahrenheit\n",
      " 58 Celsius = 136.4 Fahrenheit\n",
      " 59 Celsius = 138.2 Fahrenheit\n",
      " 60 Celsius = 140.0 Fahrenheit\n",
      " 61 Celsius = 141.8 Fahrenheit\n",
      " 62 Celsius = 143.6 Fahrenheit\n",
      " 63 Celsius = 145.4 Fahrenheit\n",
      " 64 Celsius = 147.2 Fahrenheit\n",
      " 65 Celsius = 149.0 Fahrenheit\n",
      " 66 Celsius = 150.8 Fahrenheit\n",
      " 67 Celsius = 152.6 Fahrenheit\n",
      " 68 Celsius = 154.4 Fahrenheit\n",
      " 69 Celsius = 156.2 Fahrenheit\n",
      " 70 Celsius = 158.0 Fahrenheit\n",
      " 71 Celsius = 159.8 Fahrenheit\n",
      " 72 Celsius = 161.6 Fahrenheit\n",
      " 73 Celsius = 163.4 Fahrenheit\n",
      " 74 Celsius = 165.2 Fahrenheit\n",
      " 75 Celsius = 167.0 Fahrenheit\n",
      " 76 Celsius = 168.8 Fahrenheit\n",
      " 77 Celsius = 170.6 Fahrenheit\n",
      " 78 Celsius = 172.4 Fahrenheit\n",
      " 79 Celsius = 174.2 Fahrenheit\n",
      " 80 Celsius = 176.0 Fahrenheit\n",
      " 81 Celsius = 177.8 Fahrenheit\n",
      " 82 Celsius = 179.6 Fahrenheit\n",
      " 83 Celsius = 181.4 Fahrenheit\n",
      " 84 Celsius = 183.2 Fahrenheit\n",
      " 85 Celsius = 185.0 Fahrenheit\n",
      " 86 Celsius = 186.8 Fahrenheit\n",
      " 87 Celsius = 188.6 Fahrenheit\n",
      " 88 Celsius = 190.4 Fahrenheit\n",
      " 89 Celsius = 192.2 Fahrenheit\n",
      " 90 Celsius = 194.0 Fahrenheit\n",
      " 91 Celsius = 195.8 Fahrenheit\n",
      " 92 Celsius = 197.6 Fahrenheit\n",
      " 93 Celsius = 199.4 Fahrenheit\n",
      " 94 Celsius = 201.2 Fahrenheit\n",
      " 95 Celsius = 203.0 Fahrenheit\n",
      " 96 Celsius = 204.8 Fahrenheit\n",
      " 97 Celsius = 206.6 Fahrenheit\n",
      " 98 Celsius = 208.4 Fahrenheit\n",
      " 99 Celsius = 210.2 Fahrenheit\n",
      "100 Celsius = 212.0 Fahrenheit\n"
     ]
    }
   ],
   "source": [
    "def celsius_to_fahrenheit(temp):\n",
    "    return (9/5)*temp + 32\n",
    "\n",
    "for tempc in range(0,101):\n",
    "    tempf = celsius_to_fahrenheit(tempc)\n",
    "    print(f'{tempc:>3} Celsius ={tempf:>6.1f} Fahrenheit')"
   ]
  },
  {
   "cell_type": "markdown",
   "id": "83e21726-5464-46f1-9feb-ef12140bed00",
   "metadata": {},
   "source": [
    "First a `function` is defined to convert Celsius values to Fahrenheit. The formula is used inside the function definition.\n",
    "Next a simple `for` loop is implemented to print out Fahrenheit values printed out for 0 to 100 degrees Celsius, in a neat formatted manner.\n"
   ]
  },
  {
   "cell_type": "markdown",
   "id": "a6097096-4638-4b8a-a431-b73ad88f8e9b",
   "metadata": {},
   "source": [
    "###"
   ]
  },
  {
   "cell_type": "markdown",
   "id": "df6ec922-c532-4cd8-be21-8095826ec271",
   "metadata": {},
   "source": [
    "# 5.6 Functions Returning Tuples\n",
    "Define a function rotate that receives three arguments and returns a tuple in which the first argument is at index 1, the second argument is at index 2 and the third argument is at index 0. Define variables a, b and c containing 'Doug', 22 and 1984. Then call the function three times. For each call, unpack its result into a, b and c, then display their values."
   ]
  },
  {
   "cell_type": "code",
   "execution_count": 2,
   "id": "c432fe38-3ee0-405d-8c37-673d861d1f87",
   "metadata": {},
   "outputs": [
    {
     "name": "stdout",
     "output_type": "stream",
     "text": [
      "a = 22, b = 1984, c = Doug\n",
      "a = 1984, b = Doug, c = 22\n",
      "a = Doug, b = 22, c = 1984\n"
     ]
    }
   ],
   "source": [
    "def rotate(a,b,c):\n",
    "    a,b,c = (c,a,b)\n",
    "    return(c,a,b)\n",
    "    \n",
    "a = \"Doug\"\n",
    "b = 22\n",
    "c = 1984\n",
    "\n",
    "a,b,c=rotate(a, b, c)\n",
    "print(f'a = {a}, b = {b}, c = {c}')\n",
    "\n",
    "a,b,c=rotate(a, b, c)\n",
    "print(f'a = {a}, b = {b}, c = {c}')\n",
    "\n",
    "a,b,c=rotate(a, b, c)\n",
    "print(f'a = {a}, b = {b}, c = {c}')"
   ]
  },
  {
   "cell_type": "markdown",
   "id": "cc8032f4-d0eb-4053-a1b5-5fd73f5b0f91",
   "metadata": {},
   "source": [
    "Function `rotate` is defined to swap the three variables. The variables are defined next.\n",
    "The function is called thrice and outputs are printed, we notice that a, b and c are rotated 3 times."
   ]
  },
  {
   "cell_type": "markdown",
   "id": "0426e24d-9e6f-49a9-a947-81db6284dc94",
   "metadata": {},
   "source": [
    "###"
   ]
  },
  {
   "cell_type": "markdown",
   "id": "b27a877e-5b64-4127-ac20-937e0f82c23c",
   "metadata": {},
   "source": [
    "# 5.7 Duplicate Elimination\n",
    "Create a function that receives a list and returns a (possibly shorter) list containing only the unique values in sorted order. Test your function with a list of numbers and a list of strings."
   ]
  },
  {
   "cell_type": "code",
   "execution_count": 3,
   "id": "92f40ce3-26c2-452a-ba56-d0569177de0b",
   "metadata": {},
   "outputs": [
    {
     "data": {
      "text/plain": [
       "[2, 8, 34, 80]"
      ]
     },
     "execution_count": 3,
     "metadata": {},
     "output_type": "execute_result"
    }
   ],
   "source": [
    "def duplicates(list1):\n",
    "    dup = []\n",
    "    for i in list1:\n",
    "        if i not in dup:\n",
    "            dup.append(i) \n",
    "    dup.sort()\n",
    "    return dup\n",
    "\n",
    "duplicates([34,8,80,34,2])\n"
   ]
  },
  {
   "cell_type": "code",
   "execution_count": 4,
   "id": "04e6b140-762a-41b3-8628-b36463d678a7",
   "metadata": {},
   "outputs": [
    {
     "data": {
      "text/plain": [
       "['list', 'one', 'tuple', 'two']"
      ]
     },
     "execution_count": 4,
     "metadata": {},
     "output_type": "execute_result"
    }
   ],
   "source": [
    "duplicates([\"list\",\"one\",\"two\",\"one\",\"tuple\"])"
   ]
  },
  {
   "cell_type": "markdown",
   "id": "082204f9-02cc-46ee-9ffb-b2c552e78de6",
   "metadata": {},
   "source": [
    "We create a function `duplicates` which creates a list of the non-duplicate items in the entered list. We use a simple `nested loop` to accomplish this task. For every item in the entered list, we check if it is already present in the new list we are creating. If it is not present, we add the item to our new list. Then we return our newly created list with no duplicates."
   ]
  },
  {
   "cell_type": "markdown",
   "id": "8a87f38b-34ab-4122-9747-c40c68f8502a",
   "metadata": {},
   "source": [
    "#"
   ]
  },
  {
   "cell_type": "markdown",
   "id": "f7d1df69-3052-44ee-9f99-9d4729976b4a",
   "metadata": {},
   "source": [
    "# 5.14 Is a Sequence Sorted?\n",
    "Create a function is_ordered that receives a sequence and returns True if the elements are in sorted order. Test your function with sorted and unsorted lists, tuples and strings."
   ]
  },
  {
   "cell_type": "code",
   "execution_count": 5,
   "id": "409ffd2a-94b5-4d0f-a0e3-274e9307c57e",
   "metadata": {},
   "outputs": [
    {
     "name": "stdout",
     "output_type": "stream",
     "text": [
      "False\n",
      "False\n",
      "True\n"
     ]
    }
   ],
   "source": [
    "def is_ordered(elements):\n",
    "    return list(elements) == sorted(list(elements))\n",
    "\n",
    "print(is_ordered([20,40,30,60]))\n",
    "print(is_ordered('12494'))\n",
    "print(is_ordered((3,10,30,89)))"
   ]
  },
  {
   "cell_type": "markdown",
   "id": "5a3a45a1-245d-4f5d-a210-18d9a494f645",
   "metadata": {},
   "source": [
    "The function `is_ordered` checks if the entered list is correctly sorted or not, using a simple boolean expression. It returns `true` if it is sorted and `False` if the list is jumbled/ not sorted."
   ]
  },
  {
   "cell_type": "markdown",
   "id": "65f4ec8d-31d3-4325-bd5a-553c240c36e6",
   "metadata": {},
   "source": [
    "#"
   ]
  },
  {
   "cell_type": "markdown",
   "id": "718be1be-7fbf-40e1-8c52-902f81c3cbf2",
   "metadata": {},
   "source": [
    "# 5.27 Intro to Data Science: Duplicate Elimination and Counting Frequencies\n",
    "Use a list comprehension to create a list of 50 random values in the range 1 through 10. Use NumPy’s unique function to obtain the unique values and their frequencies. Display the results."
   ]
  },
  {
   "cell_type": "code",
   "execution_count": 6,
   "id": "2ccb4d5c-98a8-41a6-932d-56271f38af42",
   "metadata": {},
   "outputs": [
    {
     "name": "stdout",
     "output_type": "stream",
     "text": [
      "Integers   -   Frequencies\n",
      "    1               3\n",
      "    2               2\n",
      "    3               6\n",
      "    4               4\n",
      "    5               3\n",
      "    6               9\n",
      "    7               7\n",
      "    8               6\n",
      "    9               4\n",
      "   10               6\n"
     ]
    }
   ],
   "source": [
    "import random\n",
    "import numpy as np\n",
    "\n",
    "group=[]\n",
    "\n",
    "for j in range(50):\n",
    "    group.append(random.randint(1,10))\n",
    "    \n",
    "x, f = np.unique(group, return_counts=True)\n",
    "\n",
    "print('Integers   -   Frequencies')\n",
    "\n",
    "for j in range(len(f)):\n",
    "    print(f'{x[j]:>5} {f[j]:>15}')"
   ]
  },
  {
   "cell_type": "markdown",
   "id": "abb2c0ed-2b03-49d5-a041-c84d6aebf610",
   "metadata": {},
   "source": [
    "First we import the libraries that we will need in further code, `random` and `numpy`. We create an empty list `group` first where we will go on adding the random integers that we generate. We add the randomly generated numbers from 1 to 10 into `group` via a simple `for` loop.\n",
    "We use `np.unique` to find the frequencies of each of the numbers, and then print them out in a formatted manner."
   ]
  },
  {
   "cell_type": "code",
   "execution_count": null,
   "id": "ace951c3-c943-40d9-9741-63857730cda5",
   "metadata": {},
   "outputs": [],
   "source": []
  }
 ],
 "metadata": {
  "kernelspec": {
   "display_name": "Python 3 (ipykernel)",
   "language": "python",
   "name": "python3"
  },
  "language_info": {
   "codemirror_mode": {
    "name": "ipython",
    "version": 3
   },
   "file_extension": ".py",
   "mimetype": "text/x-python",
   "name": "python",
   "nbconvert_exporter": "python",
   "pygments_lexer": "ipython3",
   "version": "3.9.13"
  }
 },
 "nbformat": 4,
 "nbformat_minor": 5
}
