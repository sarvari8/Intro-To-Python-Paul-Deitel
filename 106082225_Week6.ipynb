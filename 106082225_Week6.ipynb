{
 "cells": [
  {
   "cell_type": "markdown",
   "id": "eb5cf6c2-0bf9-44e4-83c0-f71e86097767",
   "metadata": {},
   "source": [
    "## UID 106082225, Sarvari Pidaparty, MSBA'23"
   ]
  },
  {
   "cell_type": "markdown",
   "id": "d67742cf-fa06-4f97-8c7c-c0a2b7a55135",
   "metadata": {},
   "source": [
    "Self - Assessment: I have done the required exercises and fully understand them.\n"
   ]
  },
  {
   "cell_type": "markdown",
   "id": "34eda08e-8d29-43d7-9133-4404e8c39282",
   "metadata": {},
   "source": [
    "# 9.3 Class Average: Writing Student Records to a CSV File\n",
    "An instructor teaches a class in which each student takes three exams. The instructor would like to store this information in a file named grades.csv for later use. Write code that enables an instructor to enter each student’s first name and last name as strings and the student’s three exam grades as integers. Use the csv module to write each record into the grades.csv file. Each record should be a single line of text in the following CSV format:  \n",
    "firstname, lastname, exam1grade, exam2grade, exam3grade"
   ]
  },
  {
   "cell_type": "code",
   "execution_count": 1,
   "id": "ebf50d24-ef4e-491d-96c0-af74a29e39bc",
   "metadata": {},
   "outputs": [],
   "source": [
    "import csv\n",
    "with open('grades.csv', mode='w', newline='') as grades:\n",
    "    writer = csv.writer(grades)\n",
    "    writer.writerow(['Paul', 'Jones', 3.40, 3.20, 3.76])\n",
    "    writer.writerow(['George', 'Doe', 3.78, 3.65, 3.88])\n",
    "    writer.writerow(['Gene', 'White', 3.10, 3.60, 3.45])\n",
    "    writer.writerow(['Mick', 'Stone', 4.00, 3.94, 3.82])\n",
    "    writer.writerow(['Jen', 'Rich', 3.63, 3.34, 3.86])\n",
    "    "
   ]
  },
  {
   "cell_type": "markdown",
   "id": "bfad3d2e-0e99-4d43-8b79-6c12c7ab91f6",
   "metadata": {},
   "source": [
    "We first `import` csv, use the mode `w` or write to write grades for students into the csv file. `newline` is used so each new line is processed properly. `writerow` method is used for this purpose, each row of data is stored as `grades` into `grades.csv`."
   ]
  },
  {
   "cell_type": "markdown",
   "id": "00ccaa4c-9dc8-4544-a497-4ad8260b0d1e",
   "metadata": {},
   "source": [
    "##"
   ]
  },
  {
   "cell_type": "markdown",
   "id": "b3cc70af-c300-4073-99e2-52f09d878cec",
   "metadata": {},
   "source": [
    "# 9.4 Class Average: Reading Student Records from a CSV File\n",
    "Use the csv module to read the grades.csv file from the previous exercise. Display the data in tabular format."
   ]
  },
  {
   "cell_type": "code",
   "execution_count": 2,
   "id": "f954adce-0ee6-4bf1-9856-1ed0da9df5cc",
   "metadata": {},
   "outputs": [
    {
     "name": "stdout",
     "output_type": "stream",
     "text": [
      "First Name     Last Name              Grade 1        Grade 2        Grade 3\n",
      "Paul           Jones                      3.4            3.2           3.76\n",
      "George         Doe                       3.78           3.65           3.88\n",
      "Gene           White                      3.1            3.6           3.45\n",
      "Mick           Stone                      4.0           3.94           3.82\n",
      "Jen            Rich                      3.63           3.34           3.86\n"
     ]
    }
   ],
   "source": [
    "with open('grades.csv', 'r', newline='') as grades:\n",
    "    print(f'{\"First Name\":<15}{\"Last Name\":<15}{\"Grade 1\":>15}{\"Grade 2\":>15}{\"Grade 3\":>15}')\n",
    "    readergrades = csv.reader(grades)\n",
    "    for record in readergrades:  \n",
    "        firstname, lastname, exam1grade, exam2grade, exam3grade = record\n",
    "        print(f'{firstname:<15}{lastname:<15}{exam1grade:>15}{exam2grade:>15}{exam3grade:>15}')\n",
    "        "
   ]
  },
  {
   "cell_type": "markdown",
   "id": "7626b209-1e67-4609-a5a6-0e769b00abd3",
   "metadata": {},
   "source": [
    "The `reader` function helps read data in a csv file. We iterate through each record using the reader object. We also use a `for` loop to read through each value, which we unpack into the 5 variables and then print them out."
   ]
  },
  {
   "cell_type": "markdown",
   "id": "1fbe3807-8e9d-493d-b3eb-9438f70c5f32",
   "metadata": {},
   "source": [
    "##"
   ]
  },
  {
   "cell_type": "markdown",
   "id": "964e24a5-ea31-45c0-81b7-bb3939713e70",
   "metadata": {},
   "source": [
    "# 9.16 Data Science: Working with the diamonds.csv Dataset in Pandas\n"
   ]
  },
  {
   "cell_type": "markdown",
   "id": "ad39cd74-f164-4ed9-9697-a1ca1140d0c5",
   "metadata": {},
   "source": [
    "Perform the following tasks to study and analyze the diamonds dataset:  \n",
    "a) Download diamonds.csv from one of the dataset repositories.  \n",
    "b) Load the dataset into a pandas DataFrame with the following statement, which uses the first column of each record as the row index:  \n",
    "df = pd.read_csv('diamonds.csv', index_col=0)  \n",
    "c) Display the first seven rows of the DataFrame.  \n",
    "d) Display the last seven rows of the DataFrame.  \n",
    "e) Use the DataFrame method describe (which looks only at the numerical columns) to calculate the descriptive statistics for the numerical columns—carat, depth, table, price, x, y and z.  \n",
    "f) Use Series method describe to calculate the descriptive statistics for the categorical data (text) columns—cut, color and clarity.  \n",
    "g) What are the unique category values (use the Series method unique)?  \n",
    "h) Pandas has many built-in graphing capabilities. Execute the %matplotlib magic to enable Matplotlib support in IPython. Then, to view histograms of each numerical data column, call your DataFrame’s hist method. The following figure shows the results for the DataFrame’s seven numerical columns:"
   ]
  },
  {
   "cell_type": "code",
   "execution_count": 3,
   "id": "95146229-8481-49eb-9644-0aac71fe8829",
   "metadata": {},
   "outputs": [],
   "source": [
    "#b\n",
    "import pandas as pd\n",
    "df = pd.read_csv('diamonds.csv', index_col=0)"
   ]
  },
  {
   "cell_type": "markdown",
   "id": "77c8d76f-5d3a-4208-99ae-fc7c53a3ca0c",
   "metadata": {},
   "source": [
    "Used the given statement to load the diamonds.csv dataset into dataframe `df`."
   ]
  },
  {
   "cell_type": "code",
   "execution_count": 4,
   "id": "34b85d52-fa8b-482b-8a43-822bc9b8810a",
   "metadata": {},
   "outputs": [
    {
     "data": {
      "text/html": [
       "<div>\n",
       "<style scoped>\n",
       "    .dataframe tbody tr th:only-of-type {\n",
       "        vertical-align: middle;\n",
       "    }\n",
       "\n",
       "    .dataframe tbody tr th {\n",
       "        vertical-align: top;\n",
       "    }\n",
       "\n",
       "    .dataframe thead th {\n",
       "        text-align: right;\n",
       "    }\n",
       "</style>\n",
       "<table border=\"1\" class=\"dataframe\">\n",
       "  <thead>\n",
       "    <tr style=\"text-align: right;\">\n",
       "      <th></th>\n",
       "      <th>carat</th>\n",
       "      <th>cut</th>\n",
       "      <th>color</th>\n",
       "      <th>clarity</th>\n",
       "      <th>depth</th>\n",
       "      <th>table</th>\n",
       "      <th>price</th>\n",
       "      <th>x</th>\n",
       "      <th>y</th>\n",
       "      <th>z</th>\n",
       "    </tr>\n",
       "  </thead>\n",
       "  <tbody>\n",
       "    <tr>\n",
       "      <th>1</th>\n",
       "      <td>0.23</td>\n",
       "      <td>Ideal</td>\n",
       "      <td>E</td>\n",
       "      <td>SI2</td>\n",
       "      <td>61.5</td>\n",
       "      <td>55.0</td>\n",
       "      <td>326</td>\n",
       "      <td>3.95</td>\n",
       "      <td>3.98</td>\n",
       "      <td>2.43</td>\n",
       "    </tr>\n",
       "    <tr>\n",
       "      <th>2</th>\n",
       "      <td>0.21</td>\n",
       "      <td>Premium</td>\n",
       "      <td>E</td>\n",
       "      <td>SI1</td>\n",
       "      <td>59.8</td>\n",
       "      <td>61.0</td>\n",
       "      <td>326</td>\n",
       "      <td>3.89</td>\n",
       "      <td>3.84</td>\n",
       "      <td>2.31</td>\n",
       "    </tr>\n",
       "    <tr>\n",
       "      <th>3</th>\n",
       "      <td>0.23</td>\n",
       "      <td>Good</td>\n",
       "      <td>E</td>\n",
       "      <td>VS1</td>\n",
       "      <td>56.9</td>\n",
       "      <td>65.0</td>\n",
       "      <td>327</td>\n",
       "      <td>4.05</td>\n",
       "      <td>4.07</td>\n",
       "      <td>2.31</td>\n",
       "    </tr>\n",
       "    <tr>\n",
       "      <th>4</th>\n",
       "      <td>0.29</td>\n",
       "      <td>Premium</td>\n",
       "      <td>I</td>\n",
       "      <td>VS2</td>\n",
       "      <td>62.4</td>\n",
       "      <td>58.0</td>\n",
       "      <td>334</td>\n",
       "      <td>4.20</td>\n",
       "      <td>4.23</td>\n",
       "      <td>2.63</td>\n",
       "    </tr>\n",
       "    <tr>\n",
       "      <th>5</th>\n",
       "      <td>0.31</td>\n",
       "      <td>Good</td>\n",
       "      <td>J</td>\n",
       "      <td>SI2</td>\n",
       "      <td>63.3</td>\n",
       "      <td>58.0</td>\n",
       "      <td>335</td>\n",
       "      <td>4.34</td>\n",
       "      <td>4.35</td>\n",
       "      <td>2.75</td>\n",
       "    </tr>\n",
       "    <tr>\n",
       "      <th>6</th>\n",
       "      <td>0.24</td>\n",
       "      <td>Very Good</td>\n",
       "      <td>J</td>\n",
       "      <td>VVS2</td>\n",
       "      <td>62.8</td>\n",
       "      <td>57.0</td>\n",
       "      <td>336</td>\n",
       "      <td>3.94</td>\n",
       "      <td>3.96</td>\n",
       "      <td>2.48</td>\n",
       "    </tr>\n",
       "    <tr>\n",
       "      <th>7</th>\n",
       "      <td>0.24</td>\n",
       "      <td>Very Good</td>\n",
       "      <td>I</td>\n",
       "      <td>VVS1</td>\n",
       "      <td>62.3</td>\n",
       "      <td>57.0</td>\n",
       "      <td>336</td>\n",
       "      <td>3.95</td>\n",
       "      <td>3.98</td>\n",
       "      <td>2.47</td>\n",
       "    </tr>\n",
       "  </tbody>\n",
       "</table>\n",
       "</div>"
      ],
      "text/plain": [
       "   carat        cut color clarity  depth  table  price     x     y     z\n",
       "1   0.23      Ideal     E     SI2   61.5   55.0    326  3.95  3.98  2.43\n",
       "2   0.21    Premium     E     SI1   59.8   61.0    326  3.89  3.84  2.31\n",
       "3   0.23       Good     E     VS1   56.9   65.0    327  4.05  4.07  2.31\n",
       "4   0.29    Premium     I     VS2   62.4   58.0    334  4.20  4.23  2.63\n",
       "5   0.31       Good     J     SI2   63.3   58.0    335  4.34  4.35  2.75\n",
       "6   0.24  Very Good     J    VVS2   62.8   57.0    336  3.94  3.96  2.48\n",
       "7   0.24  Very Good     I    VVS1   62.3   57.0    336  3.95  3.98  2.47"
      ]
     },
     "execution_count": 4,
     "metadata": {},
     "output_type": "execute_result"
    }
   ],
   "source": [
    "#c\n",
    "df.head(7)"
   ]
  },
  {
   "cell_type": "markdown",
   "id": "61ca02e0-6783-43be-8cca-cb7a6d77d143",
   "metadata": {},
   "source": [
    "Used `head(n)` to print the first n rows of the dataframe."
   ]
  },
  {
   "cell_type": "code",
   "execution_count": 5,
   "id": "32c66afd-b74d-4031-8976-efaf7ad24c42",
   "metadata": {},
   "outputs": [
    {
     "data": {
      "text/html": [
       "<div>\n",
       "<style scoped>\n",
       "    .dataframe tbody tr th:only-of-type {\n",
       "        vertical-align: middle;\n",
       "    }\n",
       "\n",
       "    .dataframe tbody tr th {\n",
       "        vertical-align: top;\n",
       "    }\n",
       "\n",
       "    .dataframe thead th {\n",
       "        text-align: right;\n",
       "    }\n",
       "</style>\n",
       "<table border=\"1\" class=\"dataframe\">\n",
       "  <thead>\n",
       "    <tr style=\"text-align: right;\">\n",
       "      <th></th>\n",
       "      <th>carat</th>\n",
       "      <th>cut</th>\n",
       "      <th>color</th>\n",
       "      <th>clarity</th>\n",
       "      <th>depth</th>\n",
       "      <th>table</th>\n",
       "      <th>price</th>\n",
       "      <th>x</th>\n",
       "      <th>y</th>\n",
       "      <th>z</th>\n",
       "    </tr>\n",
       "  </thead>\n",
       "  <tbody>\n",
       "    <tr>\n",
       "      <th>53934</th>\n",
       "      <td>0.70</td>\n",
       "      <td>Very Good</td>\n",
       "      <td>E</td>\n",
       "      <td>VS2</td>\n",
       "      <td>61.2</td>\n",
       "      <td>59.0</td>\n",
       "      <td>2757</td>\n",
       "      <td>5.69</td>\n",
       "      <td>5.72</td>\n",
       "      <td>3.49</td>\n",
       "    </tr>\n",
       "    <tr>\n",
       "      <th>53935</th>\n",
       "      <td>0.72</td>\n",
       "      <td>Premium</td>\n",
       "      <td>D</td>\n",
       "      <td>SI1</td>\n",
       "      <td>62.7</td>\n",
       "      <td>59.0</td>\n",
       "      <td>2757</td>\n",
       "      <td>5.69</td>\n",
       "      <td>5.73</td>\n",
       "      <td>3.58</td>\n",
       "    </tr>\n",
       "    <tr>\n",
       "      <th>53936</th>\n",
       "      <td>0.72</td>\n",
       "      <td>Ideal</td>\n",
       "      <td>D</td>\n",
       "      <td>SI1</td>\n",
       "      <td>60.8</td>\n",
       "      <td>57.0</td>\n",
       "      <td>2757</td>\n",
       "      <td>5.75</td>\n",
       "      <td>5.76</td>\n",
       "      <td>3.50</td>\n",
       "    </tr>\n",
       "    <tr>\n",
       "      <th>53937</th>\n",
       "      <td>0.72</td>\n",
       "      <td>Good</td>\n",
       "      <td>D</td>\n",
       "      <td>SI1</td>\n",
       "      <td>63.1</td>\n",
       "      <td>55.0</td>\n",
       "      <td>2757</td>\n",
       "      <td>5.69</td>\n",
       "      <td>5.75</td>\n",
       "      <td>3.61</td>\n",
       "    </tr>\n",
       "    <tr>\n",
       "      <th>53938</th>\n",
       "      <td>0.70</td>\n",
       "      <td>Very Good</td>\n",
       "      <td>D</td>\n",
       "      <td>SI1</td>\n",
       "      <td>62.8</td>\n",
       "      <td>60.0</td>\n",
       "      <td>2757</td>\n",
       "      <td>5.66</td>\n",
       "      <td>5.68</td>\n",
       "      <td>3.56</td>\n",
       "    </tr>\n",
       "    <tr>\n",
       "      <th>53939</th>\n",
       "      <td>0.86</td>\n",
       "      <td>Premium</td>\n",
       "      <td>H</td>\n",
       "      <td>SI2</td>\n",
       "      <td>61.0</td>\n",
       "      <td>58.0</td>\n",
       "      <td>2757</td>\n",
       "      <td>6.15</td>\n",
       "      <td>6.12</td>\n",
       "      <td>3.74</td>\n",
       "    </tr>\n",
       "    <tr>\n",
       "      <th>53940</th>\n",
       "      <td>0.75</td>\n",
       "      <td>Ideal</td>\n",
       "      <td>D</td>\n",
       "      <td>SI2</td>\n",
       "      <td>62.2</td>\n",
       "      <td>55.0</td>\n",
       "      <td>2757</td>\n",
       "      <td>5.83</td>\n",
       "      <td>5.87</td>\n",
       "      <td>3.64</td>\n",
       "    </tr>\n",
       "  </tbody>\n",
       "</table>\n",
       "</div>"
      ],
      "text/plain": [
       "       carat        cut color clarity  depth  table  price     x     y     z\n",
       "53934   0.70  Very Good     E     VS2   61.2   59.0   2757  5.69  5.72  3.49\n",
       "53935   0.72    Premium     D     SI1   62.7   59.0   2757  5.69  5.73  3.58\n",
       "53936   0.72      Ideal     D     SI1   60.8   57.0   2757  5.75  5.76  3.50\n",
       "53937   0.72       Good     D     SI1   63.1   55.0   2757  5.69  5.75  3.61\n",
       "53938   0.70  Very Good     D     SI1   62.8   60.0   2757  5.66  5.68  3.56\n",
       "53939   0.86    Premium     H     SI2   61.0   58.0   2757  6.15  6.12  3.74\n",
       "53940   0.75      Ideal     D     SI2   62.2   55.0   2757  5.83  5.87  3.64"
      ]
     },
     "execution_count": 5,
     "metadata": {},
     "output_type": "execute_result"
    }
   ],
   "source": [
    "#d\n",
    "df.tail(7)"
   ]
  },
  {
   "cell_type": "markdown",
   "id": "cf9b599e-a474-4a08-b818-14cc5fac7930",
   "metadata": {},
   "source": [
    "Used `tail(n)` to print the last n rows of the dataframe."
   ]
  },
  {
   "cell_type": "code",
   "execution_count": 6,
   "id": "f4e8b781-32d1-4934-b726-5b1c538efc52",
   "metadata": {},
   "outputs": [
    {
     "data": {
      "text/html": [
       "<div>\n",
       "<style scoped>\n",
       "    .dataframe tbody tr th:only-of-type {\n",
       "        vertical-align: middle;\n",
       "    }\n",
       "\n",
       "    .dataframe tbody tr th {\n",
       "        vertical-align: top;\n",
       "    }\n",
       "\n",
       "    .dataframe thead th {\n",
       "        text-align: right;\n",
       "    }\n",
       "</style>\n",
       "<table border=\"1\" class=\"dataframe\">\n",
       "  <thead>\n",
       "    <tr style=\"text-align: right;\">\n",
       "      <th></th>\n",
       "      <th>carat</th>\n",
       "      <th>depth</th>\n",
       "      <th>table</th>\n",
       "      <th>price</th>\n",
       "      <th>x</th>\n",
       "      <th>y</th>\n",
       "      <th>z</th>\n",
       "    </tr>\n",
       "  </thead>\n",
       "  <tbody>\n",
       "    <tr>\n",
       "      <th>count</th>\n",
       "      <td>53940.000000</td>\n",
       "      <td>53940.000000</td>\n",
       "      <td>53940.000000</td>\n",
       "      <td>53940.000000</td>\n",
       "      <td>53940.000000</td>\n",
       "      <td>53940.000000</td>\n",
       "      <td>53940.000000</td>\n",
       "    </tr>\n",
       "    <tr>\n",
       "      <th>mean</th>\n",
       "      <td>0.797940</td>\n",
       "      <td>61.749405</td>\n",
       "      <td>57.457184</td>\n",
       "      <td>3932.799722</td>\n",
       "      <td>5.731157</td>\n",
       "      <td>5.734526</td>\n",
       "      <td>3.538734</td>\n",
       "    </tr>\n",
       "    <tr>\n",
       "      <th>std</th>\n",
       "      <td>0.474011</td>\n",
       "      <td>1.432621</td>\n",
       "      <td>2.234491</td>\n",
       "      <td>3989.439738</td>\n",
       "      <td>1.121761</td>\n",
       "      <td>1.142135</td>\n",
       "      <td>0.705699</td>\n",
       "    </tr>\n",
       "    <tr>\n",
       "      <th>min</th>\n",
       "      <td>0.200000</td>\n",
       "      <td>43.000000</td>\n",
       "      <td>43.000000</td>\n",
       "      <td>326.000000</td>\n",
       "      <td>0.000000</td>\n",
       "      <td>0.000000</td>\n",
       "      <td>0.000000</td>\n",
       "    </tr>\n",
       "    <tr>\n",
       "      <th>25%</th>\n",
       "      <td>0.400000</td>\n",
       "      <td>61.000000</td>\n",
       "      <td>56.000000</td>\n",
       "      <td>950.000000</td>\n",
       "      <td>4.710000</td>\n",
       "      <td>4.720000</td>\n",
       "      <td>2.910000</td>\n",
       "    </tr>\n",
       "    <tr>\n",
       "      <th>50%</th>\n",
       "      <td>0.700000</td>\n",
       "      <td>61.800000</td>\n",
       "      <td>57.000000</td>\n",
       "      <td>2401.000000</td>\n",
       "      <td>5.700000</td>\n",
       "      <td>5.710000</td>\n",
       "      <td>3.530000</td>\n",
       "    </tr>\n",
       "    <tr>\n",
       "      <th>75%</th>\n",
       "      <td>1.040000</td>\n",
       "      <td>62.500000</td>\n",
       "      <td>59.000000</td>\n",
       "      <td>5324.250000</td>\n",
       "      <td>6.540000</td>\n",
       "      <td>6.540000</td>\n",
       "      <td>4.040000</td>\n",
       "    </tr>\n",
       "    <tr>\n",
       "      <th>max</th>\n",
       "      <td>5.010000</td>\n",
       "      <td>79.000000</td>\n",
       "      <td>95.000000</td>\n",
       "      <td>18823.000000</td>\n",
       "      <td>10.740000</td>\n",
       "      <td>58.900000</td>\n",
       "      <td>31.800000</td>\n",
       "    </tr>\n",
       "  </tbody>\n",
       "</table>\n",
       "</div>"
      ],
      "text/plain": [
       "              carat         depth         table         price             x  \\\n",
       "count  53940.000000  53940.000000  53940.000000  53940.000000  53940.000000   \n",
       "mean       0.797940     61.749405     57.457184   3932.799722      5.731157   \n",
       "std        0.474011      1.432621      2.234491   3989.439738      1.121761   \n",
       "min        0.200000     43.000000     43.000000    326.000000      0.000000   \n",
       "25%        0.400000     61.000000     56.000000    950.000000      4.710000   \n",
       "50%        0.700000     61.800000     57.000000   2401.000000      5.700000   \n",
       "75%        1.040000     62.500000     59.000000   5324.250000      6.540000   \n",
       "max        5.010000     79.000000     95.000000  18823.000000     10.740000   \n",
       "\n",
       "                  y             z  \n",
       "count  53940.000000  53940.000000  \n",
       "mean       5.734526      3.538734  \n",
       "std        1.142135      0.705699  \n",
       "min        0.000000      0.000000  \n",
       "25%        4.720000      2.910000  \n",
       "50%        5.710000      3.530000  \n",
       "75%        6.540000      4.040000  \n",
       "max       58.900000     31.800000  "
      ]
     },
     "execution_count": 6,
     "metadata": {},
     "output_type": "execute_result"
    }
   ],
   "source": [
    "#e\n",
    "df.describe()"
   ]
  },
  {
   "cell_type": "markdown",
   "id": "60d41209-c990-40a1-b914-9ede3841277d",
   "metadata": {},
   "source": [
    "Used `describe()` to get the descriptive statistics of the numerical columns in the data."
   ]
  },
  {
   "cell_type": "code",
   "execution_count": 7,
   "id": "be0f3d02-2687-42c3-b82d-e56a529911b9",
   "metadata": {},
   "outputs": [
    {
     "data": {
      "text/plain": [
       "count     53940\n",
       "unique        5\n",
       "top       Ideal\n",
       "freq      21551\n",
       "Name: cut, dtype: object"
      ]
     },
     "execution_count": 7,
     "metadata": {},
     "output_type": "execute_result"
    }
   ],
   "source": [
    "#f\n",
    "pd.Series(df['cut']).describe()"
   ]
  },
  {
   "cell_type": "code",
   "execution_count": 8,
   "id": "4dc916b9-f5b5-405a-98e9-eea2bd6b49d0",
   "metadata": {},
   "outputs": [
    {
     "data": {
      "text/plain": [
       "count     53940\n",
       "unique        7\n",
       "top           G\n",
       "freq      11292\n",
       "Name: color, dtype: object"
      ]
     },
     "execution_count": 8,
     "metadata": {},
     "output_type": "execute_result"
    }
   ],
   "source": [
    "pd.Series(df['color']).describe()"
   ]
  },
  {
   "cell_type": "code",
   "execution_count": 9,
   "id": "3df17e93-854d-4f7c-a7d7-5a19cacb3983",
   "metadata": {},
   "outputs": [
    {
     "data": {
      "text/plain": [
       "count     53940\n",
       "unique        8\n",
       "top         SI1\n",
       "freq      13065\n",
       "Name: clarity, dtype: object"
      ]
     },
     "execution_count": 9,
     "metadata": {},
     "output_type": "execute_result"
    }
   ],
   "source": [
    "pd.Series(df['clarity']).describe()"
   ]
  },
  {
   "cell_type": "markdown",
   "id": "734da32e-6e0c-4d17-8d9a-4d801676af77",
   "metadata": {},
   "source": [
    "Used the `Series().describe()` method to get the descriptive statistics of the categorical columns `cut`, `color` and `clarity`."
   ]
  },
  {
   "cell_type": "code",
   "execution_count": 10,
   "id": "cd5e797c-8c42-4835-ae6b-f9b30d2a9e45",
   "metadata": {},
   "outputs": [
    {
     "data": {
      "text/plain": [
       "array(['Ideal', 'Premium', 'Good', 'Very Good', 'Fair'], dtype=object)"
      ]
     },
     "execution_count": 10,
     "metadata": {},
     "output_type": "execute_result"
    }
   ],
   "source": [
    "#g\n",
    "pd.Series(df['cut']).unique()"
   ]
  },
  {
   "cell_type": "code",
   "execution_count": 11,
   "id": "ec725e64-1db6-4149-9b3e-306dfe2dfe3f",
   "metadata": {},
   "outputs": [
    {
     "data": {
      "text/plain": [
       "array(['E', 'I', 'J', 'H', 'F', 'G', 'D'], dtype=object)"
      ]
     },
     "execution_count": 11,
     "metadata": {},
     "output_type": "execute_result"
    }
   ],
   "source": [
    "pd.Series(df['color']).unique()"
   ]
  },
  {
   "cell_type": "code",
   "execution_count": 12,
   "id": "86b70cc5-8123-4bea-82de-a5768896f554",
   "metadata": {},
   "outputs": [
    {
     "data": {
      "text/plain": [
       "array(['SI2', 'SI1', 'VS1', 'VS2', 'VVS2', 'VVS1', 'I1', 'IF'],\n",
       "      dtype=object)"
      ]
     },
     "execution_count": 12,
     "metadata": {},
     "output_type": "execute_result"
    }
   ],
   "source": [
    "pd.Series(df['clarity']).unique()"
   ]
  },
  {
   "cell_type": "markdown",
   "id": "7b08f8dc-6a7c-4e40-951b-f48d89943760",
   "metadata": {},
   "source": [
    "Used the `Series().unique()` method to get the unique values in each of the categorical columns."
   ]
  },
  {
   "cell_type": "code",
   "execution_count": 13,
   "id": "0c86e1eb-f287-44dd-b05f-d24fc632251f",
   "metadata": {},
   "outputs": [
    {
     "data": {
      "image/png": "[encoded data removed]",
      "text/plain": [
       "<Figure size 640x480 with 9 Axes>"
      ]
     },
     "metadata": {},
     "output_type": "display_data"
    }
   ],
   "source": [
    "#h\n",
    "%matplotlib inline\n",
    "histogram = df.hist()"
   ]
  },
  {
   "cell_type": "markdown",
   "id": "39539018-7cc9-4667-96a4-6362a2227b4e",
   "metadata": {},
   "source": [
    "Used `%matplotlib` to get histograms of data in each of the columns in the dataframe."
   ]
  },
  {
   "cell_type": "markdown",
   "id": "c06fb4ef-60be-42b0-8ac3-d767de73b6a5",
   "metadata": {},
   "source": [
    "#"
   ]
  },
  {
   "cell_type": "markdown",
   "id": "013d1485-8d72-4210-af21-cd8f7826bf7c",
   "metadata": {},
   "source": [
    "# 10.2 Account Class with Read-Only Properties\n",
    "Modify Section 10.2.2’s Account class to provide read-only properties for the name and balance. Rename the class attributes with single leading underscores. Re-execute Section 10.2.2’s IPython session to test your updated class. To show that name and balance are read-only, try to assign new values to them."
   ]
  },
  {
   "cell_type": "code",
   "execution_count": 14,
   "id": "a3414649-71fe-4df7-96db-f5a0793e7c03",
   "metadata": {},
   "outputs": [],
   "source": [
    "from decimal import Decimal\n",
    "\n",
    "class Account:\n",
    "    \"\"\"Account class for maintaining a bank account balance.\"\"\"\n",
    "\n",
    "    def __init__(self, name, balance):\n",
    "        \"\"\"Initialize an Account object.\"\"\"\n",
    "\n",
    "        # if balance is less than 0.00, raise an exception\n",
    "        if balance < Decimal('0.00'):\n",
    "            raise ValueError('Initial balance must be >= to 0.00.')\n",
    "\n",
    "        self.name = name\n",
    "        self.balance = balance\n",
    "        \n",
    "    @property\n",
    "    def name(self):\n",
    "        \"\"\"Return the name.\"\"\"\n",
    "        return self._name\n",
    "\n",
    "    @property\n",
    "    def balance(self):\n",
    "        \"\"\"Return the balance.\"\"\"\n",
    "        return self._balance"
   ]
  },
  {
   "cell_type": "code",
   "execution_count": 15,
   "id": "bf37836f-4986-43f6-8140-e8af39cf832f",
   "metadata": {},
   "outputs": [
    {
     "ename": "AttributeError",
     "evalue": "can't set attribute",
     "output_type": "error",
     "traceback": [
      "\u001b[0;31m---------------------------------------------------------------------------\u001b[0m",
      "\u001b[0;31mAttributeError\u001b[0m                            Traceback (most recent call last)",
      "Input \u001b[0;32mIn [15]\u001b[0m, in \u001b[0;36m<cell line: 1>\u001b[0;34m()\u001b[0m\n\u001b[0;32m----> 1\u001b[0m abc \u001b[38;5;241m=\u001b[39m \u001b[43mAccount\u001b[49m\u001b[43m(\u001b[49m\u001b[43mname\u001b[49m\u001b[43m \u001b[49m\u001b[38;5;241;43m=\u001b[39;49m\u001b[43m \u001b[49m\u001b[38;5;124;43m'\u001b[39;49m\u001b[38;5;124;43mSarv\u001b[39;49m\u001b[38;5;124;43m'\u001b[39;49m\u001b[43m,\u001b[49m\u001b[43m \u001b[49m\u001b[43mbalance\u001b[49m\u001b[43m \u001b[49m\u001b[38;5;241;43m=\u001b[39;49m\u001b[43m \u001b[49m\u001b[38;5;241;43m80000\u001b[39;49m\u001b[43m)\u001b[49m\n\u001b[1;32m      2\u001b[0m abc\u001b[38;5;241m.\u001b[39mname\n\u001b[1;32m      3\u001b[0m abc\u001b[38;5;241m.\u001b[39m_balance\n",
      "Input \u001b[0;32mIn [14]\u001b[0m, in \u001b[0;36mAccount.__init__\u001b[0;34m(self, name, balance)\u001b[0m\n\u001b[1;32m     10\u001b[0m \u001b[38;5;28;01mif\u001b[39;00m balance \u001b[38;5;241m<\u001b[39m Decimal(\u001b[38;5;124m'\u001b[39m\u001b[38;5;124m0.00\u001b[39m\u001b[38;5;124m'\u001b[39m):\n\u001b[1;32m     11\u001b[0m     \u001b[38;5;28;01mraise\u001b[39;00m \u001b[38;5;167;01mValueError\u001b[39;00m(\u001b[38;5;124m'\u001b[39m\u001b[38;5;124mInitial balance must be >= to 0.00.\u001b[39m\u001b[38;5;124m'\u001b[39m)\n\u001b[0;32m---> 13\u001b[0m \u001b[38;5;28mself\u001b[39m\u001b[38;5;241m.\u001b[39mname \u001b[38;5;241m=\u001b[39m name\n\u001b[1;32m     14\u001b[0m \u001b[38;5;28mself\u001b[39m\u001b[38;5;241m.\u001b[39mbalance \u001b[38;5;241m=\u001b[39m balance\n",
      "\u001b[0;31mAttributeError\u001b[0m: can't set attribute"
     ]
    }
   ],
   "source": [
    "abc = Account(name = 'Sarv', balance = 80000)\n",
    "abc.name\n",
    "abc._balance"
   ]
  },
  {
   "cell_type": "markdown",
   "id": "32385d03-f9de-4a7e-83d8-5ee8fe9bdd5c",
   "metadata": {},
   "source": [
    "Used the `getter` method, renamed the class attributes with leading underscores and made the attributes read-only. Attempted to assign new values to name and \\_balance, `AttributeError` is raised as we have made the attributes read-only."
   ]
  },
  {
   "cell_type": "markdown",
   "id": "84c0ca4b-0c62-4249-9bf6-5a08a8d1cb8f",
   "metadata": {},
   "source": [
    "#"
   ]
  },
  {
   "cell_type": "markdown",
   "id": "7aedfe04-4937-496e-be4f-8b90968701fb",
   "metadata": {},
   "source": [
    "# 10.5 Duck Typing\n",
    "Recall that with duck typing, objects of unrelated classes can respond to the same method calls if they implement those methods. In Section 10.8, you created a list containing a CommissionEmployee and a SalariedCommissionEmployee. Then, you iterated through it, displaying each employee’s string representation and earnings. Create a class SalariedEmployee for an employee that gets paid a fixed weekly salary. Do not inherit from CommissionEmployee or SalariedCommissionEmployee. In class SalariedEmployee, override method `__repr__` and provide an earnings method. Demonstrate duck typing by creating an object of your class, adding it to the list at the end of Section 10.8, then executing the loop to show that it properly processes objects of all three classes."
   ]
  },
  {
   "cell_type": "code",
   "execution_count": null,
   "id": "d5f2d03a-86b3-495d-8e08-f5ace5a20fa9",
   "metadata": {},
   "outputs": [],
   "source": [
    "from decimal import Decimal\n",
    "class SalariedEmployee:\n",
    "    def __init__(self, first_name, last_name, ssn, fixed_salary):\n",
    "\n",
    "        self._first_name = first_name\n",
    "        self._last_name = last_name\n",
    "        self._ssn = ssn\n",
    "        self.fixed_salary = fixed_salary\n",
    "    \n",
    "    @property\n",
    "    def first_name(self):\n",
    "        return self._first_name\n",
    "    \n",
    "    @property\n",
    "    def last_name(self):\n",
    "        return self._last_name\n",
    "\n",
    "    @property\n",
    "    def ssn(self):\n",
    "        return self._ssn\n",
    "\n",
    "    @property\n",
    "    def fixed_salary(self):\n",
    "        return self._fixed_salary\n",
    "    \n",
    "    @fixed_salary.setter\n",
    "    def fixed_salary(self, salary):\n",
    "        if salary < Decimal('0.00'):\n",
    "            raise ValueError('Salary must be >= 0')\n",
    "        self._fixed_salary = salary\n",
    "        \n",
    "    def earnings(self):\n",
    "        \"\"\"Calculate earnings.\"\"\"\n",
    "        return self.fixed_salary\n",
    "    \n",
    "    def __repr__(self):\n",
    "        \"\"\"Return string representation for repr().\"\"\"\n",
    "        return ('SalariedEmployee: ' +\n",
    "            f'{self.first_name} {self.last_name}\\n' +\n",
    "            f'Social security number: {self.ssn}\\n' +\n",
    "            f'Fixed salary: {self.fixed_salary:.2f}\\n')"
   ]
  },
  {
   "cell_type": "markdown",
   "id": "7097b363-7f1f-4425-b8b2-0e699ca14898",
   "metadata": {},
   "source": [
    "Used the `CommissionEmployee` class from the book as a template to create a `SalariedEmployee` class with a fixed salary."
   ]
  },
  {
   "cell_type": "code",
   "execution_count": null,
   "id": "a8f041e9-1165-4973-ad94-ef6cc7ac7d84",
   "metadata": {},
   "outputs": [],
   "source": [
    "c = SalariedEmployee('Dave', 'Thomas', '333-33-3333', Decimal('120000.00'))\n",
    "c"
   ]
  },
  {
   "cell_type": "markdown",
   "id": "19225432-8d3c-4aec-b6d5-c75183e75941",
   "metadata": {},
   "source": [
    "Tested the class by assigning values."
   ]
  },
  {
   "cell_type": "code",
   "execution_count": null,
   "id": "5944247f-f586-4f7a-ab7e-384fdcb9b83e",
   "metadata": {},
   "outputs": [],
   "source": [
    "print(f'{c.earnings():,.2f}')"
   ]
  },
  {
   "cell_type": "markdown",
   "id": "f77d07af-ef9b-40b0-a83e-add14fe27b7c",
   "metadata": {},
   "source": [
    "Only `earnings` printed out."
   ]
  },
  {
   "cell_type": "code",
   "execution_count": null,
   "id": "fbcd6a4f-3f70-4e2b-99e7-5f063fa853d0",
   "metadata": {},
   "outputs": [],
   "source": [
    "d = SalariedEmployee('Dan', 'Jones', '334-34-3334', Decimal('80000.00'))\n",
    "e = SalariedEmployee('Lewis', 'Hamilton', '444-45-4444', Decimal('500000.00'))\n",
    "\n",
    "employees = [d, e]\n",
    "\n",
    "for employee in employees:\n",
    "    print(employee)\n",
    "    print(f'{employee.earnings():,.2f}\\n')"
   ]
  },
  {
   "cell_type": "markdown",
   "id": "b1afe725-efa1-4b8f-b4d5-d0cc15a9903e",
   "metadata": {},
   "source": [
    "Ran a loop to print salaries of 2 different employees to demonstrate `Duck Typing`."
   ]
  }
 ],
 "metadata": {
  "kernelspec": {
   "display_name": "Python 3 (ipykernel)",
   "language": "python",
   "name": "python3"
  },
  "language_info": {
   "codemirror_mode": {
    "name": "ipython",
    "version": 3
   },
   "file_extension": ".py",
   "mimetype": "text/x-python",
   "name": "python",
   "nbconvert_exporter": "python",
   "pygments_lexer": "ipython3",
   "version": "3.9.13"
  }
 },
 "nbformat": 4,
 "nbformat_minor": 5
}
