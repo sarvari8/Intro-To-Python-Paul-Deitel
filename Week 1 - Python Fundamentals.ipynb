{
 "cells": [
  {
   "cell_type": "markdown",
   "id": "70fe058c-9f8d-43f3-b0de-51bccabc7772",
   "metadata": {},
   "source": [
    "## Python Workshop Week 1 - Exercise"
   ]
  },
  {
   "cell_type": "markdown",
   "id": "44517de6-a323-43bf-9516-04fc055ed8f2",
   "metadata": {},
   "source": [
    "## 2.1 What Does This Code Do? \n",
    "Create the variables x = 2 and y = 3,\n",
    "then determine what each of the following statements displays:"
   ]
  },
  {
   "cell_type": "code",
   "execution_count": 1,
   "id": "d9ad5a53-4e8a-453f-845c-2c8c5421f3b2",
   "metadata": {},
   "outputs": [],
   "source": [
    "x = 2"
   ]
  },
  {
   "cell_type": "code",
   "execution_count": 2,
   "id": "0ae1285e-5375-46ab-8b87-9a609b758159",
   "metadata": {},
   "outputs": [],
   "source": [
    "y = 3"
   ]
  },
  {
   "cell_type": "markdown",
   "id": "a87fc4aa-e656-4f69-a966-0b824d967353",
   "metadata": {},
   "source": [
    "Variables x and y have been defined above."
   ]
  },
  {
   "cell_type": "markdown",
   "id": "fee83222-39a9-47c6-b73c-40ab7ec44b1a",
   "metadata": {},
   "source": [
    "### (a)"
   ]
  },
  {
   "cell_type": "code",
   "execution_count": 3,
   "id": "c106aeb4-025b-4a89-a9c9-a25734615781",
   "metadata": {},
   "outputs": [
    {
     "name": "stdout",
     "output_type": "stream",
     "text": [
      "x = 2\n"
     ]
    }
   ],
   "source": [
    "print('x =', x)"
   ]
  },
  {
   "cell_type": "markdown",
   "id": "be3ab358-0b78-41f2-a2c5-38db6254ba7b",
   "metadata": {},
   "source": [
    "The print statement displays the value of variable 'x' as defined above."
   ]
  },
  {
   "cell_type": "markdown",
   "id": "7ae10e05-24f9-461c-9b59-6ede7fe6713e",
   "metadata": {},
   "source": [
    "### (b)"
   ]
  },
  {
   "cell_type": "code",
   "execution_count": 4,
   "id": "91a8bb34-0218-467d-b5ee-293d4ce7d298",
   "metadata": {},
   "outputs": [
    {
     "name": "stdout",
     "output_type": "stream",
     "text": [
      "Value of 2 + 2 is 4\n"
     ]
    }
   ],
   "source": [
    "print('Value of', x, '+', x, 'is', (x + x))"
   ]
  },
  {
   "cell_type": "markdown",
   "id": "c8f8a3e1-fd0d-4bb5-a57c-f787e02446ae",
   "metadata": {},
   "source": [
    "Displays the value of 'x + x' which is equal to 4 using simple arithmetic."
   ]
  },
  {
   "cell_type": "markdown",
   "id": "96a0cdfb-0c20-40bd-99b6-5b399f631ad9",
   "metadata": {},
   "source": [
    "### (c)"
   ]
  },
  {
   "cell_type": "code",
   "execution_count": 5,
   "id": "7b60d02d-6e72-48ad-8345-41fa7bd913d1",
   "metadata": {},
   "outputs": [
    {
     "name": "stdout",
     "output_type": "stream",
     "text": [
      "x =\n"
     ]
    }
   ],
   "source": [
    "print('x =')"
   ]
  },
  {
   "cell_type": "markdown",
   "id": "ae2c2d12-fd2a-42fb-8375-06770dc958ba",
   "metadata": {},
   "source": [
    "Does not display the value of variable 'x' because no argument has been declared in the print statement."
   ]
  },
  {
   "cell_type": "markdown",
   "id": "345fb443-ae18-41a9-beb1-b50ea9126521",
   "metadata": {},
   "source": [
    "### (d)"
   ]
  },
  {
   "cell_type": "code",
   "execution_count": 6,
   "id": "fe7c9316-987d-46c4-8635-615ea5439c74",
   "metadata": {},
   "outputs": [
    {
     "name": "stdout",
     "output_type": "stream",
     "text": [
      "5 x = 5\n"
     ]
    }
   ],
   "source": [
    "print((x + y), 'x =', (y + x))"
   ]
  },
  {
   "cell_type": "markdown",
   "id": "7cd4c5af-84c2-4d63-af3e-bf497673b3cb",
   "metadata": {},
   "source": [
    "The statement first displays the value of 'x + y' which is 5, then the string 'x =' then the value of 'y + x' which is 5. "
   ]
  },
  {
   "cell_type": "markdown",
   "id": "cac0bdc9-5c88-4ebf-b91a-05ea61aebb46",
   "metadata": {},
   "source": [
    "## 2.2 What’s Wrong with This Code? \n",
    "The following code should read an integer into the variable rating:\n"
   ]
  },
  {
   "cell_type": "code",
   "execution_count": 7,
   "id": "a07a64b7-72b8-4cbe-9b0c-8308720ed692",
   "metadata": {},
   "outputs": [
    {
     "name": "stdin",
     "output_type": "stream",
     "text": [
      "Enter an integer rating between 1 and 10 6\n"
     ]
    }
   ],
   "source": [
    "rating = input('Enter an integer rating between 1 and 10')"
   ]
  },
  {
   "cell_type": "code",
   "execution_count": 8,
   "id": "e5ea048c-a188-489c-bc0a-a50c219fe1fd",
   "metadata": {},
   "outputs": [
    {
     "data": {
      "text/plain": [
       "str"
      ]
     },
     "execution_count": 8,
     "metadata": {},
     "output_type": "execute_result"
    }
   ],
   "source": [
    "type(rating)"
   ]
  },
  {
   "cell_type": "markdown",
   "id": "03474d15-0a7d-40d0-be3d-044e164ac3f0",
   "metadata": {},
   "source": [
    "Variable 'rating' is read as type string by default, and would throw an error if used in subsequent code for arithmetic operations. To read it as integer, the input statement may be written as - "
   ]
  },
  {
   "cell_type": "code",
   "execution_count": 47,
   "id": "82364e96-32cd-436c-9d10-7cf8a3f8fdff",
   "metadata": {},
   "outputs": [
    {
     "name": "stdin",
     "output_type": "stream",
     "text": [
      "Enter an integer rating between 1 and 10 5\n"
     ]
    }
   ],
   "source": [
    "rating1 = int(input('Enter an integer rating between 1 and 10'))"
   ]
  },
  {
   "cell_type": "code",
   "execution_count": 48,
   "id": "cd65a7e6-5c47-4589-8ba1-3d8b81acc3ea",
   "metadata": {},
   "outputs": [
    {
     "data": {
      "text/plain": [
       "int"
      ]
     },
     "execution_count": 48,
     "metadata": {},
     "output_type": "execute_result"
    }
   ],
   "source": [
    "type(rating1)"
   ]
  },
  {
   "cell_type": "markdown",
   "id": "3b2f8a81-1a33-4b0d-b166-afa40cfb5f41",
   "metadata": {},
   "source": [
    "## 2.10 Arithmetic, Smallest and Largest \n",
    "(Arithmetic, Smallest and Largest) Write a script that inputs three\n",
    "integers from the user. Display the sum, average, product, smallest and\n",
    "largest of the numbers. Note that each of these is a reduction in functional style programming.\n"
   ]
  },
  {
   "cell_type": "code",
   "execution_count": 9,
   "id": "20193c9f-a7f2-4a05-b449-2e3f0d2d301f",
   "metadata": {},
   "outputs": [
    {
     "name": "stdin",
     "output_type": "stream",
     "text": [
      "Enter the first integer 3\n"
     ]
    }
   ],
   "source": [
    "number1 = int(input('Enter the first integer'))"
   ]
  },
  {
   "cell_type": "code",
   "execution_count": 10,
   "id": "843914ac-76f8-42ba-8ee4-05bcbe952b4c",
   "metadata": {},
   "outputs": [
    {
     "name": "stdin",
     "output_type": "stream",
     "text": [
      "Enter the second integer 7\n"
     ]
    }
   ],
   "source": [
    "number2 = int(input('Enter the second integer'))"
   ]
  },
  {
   "cell_type": "code",
   "execution_count": 11,
   "id": "dd52f1c9-b88c-4645-969a-b4e77d56d716",
   "metadata": {},
   "outputs": [
    {
     "name": "stdin",
     "output_type": "stream",
     "text": [
      "Enter the third integer 9\n"
     ]
    }
   ],
   "source": [
    "number3 = int(input('Enter the third integer'))"
   ]
  },
  {
   "cell_type": "markdown",
   "id": "9ac2f613-37e0-4b68-adf6-e610aebcb0e7",
   "metadata": {},
   "source": [
    "We take 3 integer inputs from the user using input statements. We read them as type int at the first step, as they would be read as string by default."
   ]
  },
  {
   "cell_type": "markdown",
   "id": "22b86686-fbfa-4abd-8961-be0533710d61",
   "metadata": {},
   "source": [
    "### (a)"
   ]
  },
  {
   "cell_type": "code",
   "execution_count": 12,
   "id": "f5057b17-a8f1-44eb-b4fe-337c9bf0dde0",
   "metadata": {},
   "outputs": [],
   "source": [
    "sum_num = number1 + number2 + number3"
   ]
  },
  {
   "cell_type": "code",
   "execution_count": 13,
   "id": "186060d2-96d2-4864-9e19-4cd5a23c4fe0",
   "metadata": {},
   "outputs": [
    {
     "data": {
      "text/plain": [
       "19"
      ]
     },
     "execution_count": 13,
     "metadata": {},
     "output_type": "execute_result"
    }
   ],
   "source": [
    "sum_num"
   ]
  },
  {
   "cell_type": "markdown",
   "id": "814ff8c4-b8cd-43db-9970-1ccd655780e5",
   "metadata": {},
   "source": [
    "The sum is calculated using simple arithmetic, operator '+'"
   ]
  },
  {
   "cell_type": "markdown",
   "id": "243d6c24-3718-43cc-988e-39aa96fa5be4",
   "metadata": {},
   "source": [
    "### (b)"
   ]
  },
  {
   "cell_type": "code",
   "execution_count": 14,
   "id": "bc9f4e60-827a-4e69-a392-5de9fbf80e84",
   "metadata": {},
   "outputs": [],
   "source": [
    "average = sum_num / 3"
   ]
  },
  {
   "cell_type": "code",
   "execution_count": 15,
   "id": "97043bc4-91f2-4280-a234-4a1891e9bc35",
   "metadata": {},
   "outputs": [
    {
     "data": {
      "text/plain": [
       "6.333333333333333"
      ]
     },
     "execution_count": 15,
     "metadata": {},
     "output_type": "execute_result"
    }
   ],
   "source": [
    "average"
   ]
  },
  {
   "cell_type": "markdown",
   "id": "714d07ec-84d5-4b62-b8ff-753e486e07d1",
   "metadata": {},
   "source": [
    "The average is computed dividing the sum by 3"
   ]
  },
  {
   "cell_type": "markdown",
   "id": "40fc037e-9e67-446c-97ab-62ada169432b",
   "metadata": {},
   "source": [
    "### (c)"
   ]
  },
  {
   "cell_type": "code",
   "execution_count": 16,
   "id": "f004bd82-bd85-4b58-b596-227cb03cbd5a",
   "metadata": {},
   "outputs": [],
   "source": [
    "product = number1 * number2 * number3"
   ]
  },
  {
   "cell_type": "code",
   "execution_count": 17,
   "id": "2249143b-4640-4429-9238-aa8c4fe12cb6",
   "metadata": {},
   "outputs": [
    {
     "data": {
      "text/plain": [
       "189"
      ]
     },
     "execution_count": 17,
     "metadata": {},
     "output_type": "execute_result"
    }
   ],
   "source": [
    "product"
   ]
  },
  {
   "cell_type": "markdown",
   "id": "eee9c738-c150-48ff-aee3-987ed0a18a30",
   "metadata": {},
   "source": [
    "The product is calculated using simple arithmetic, operator '*'"
   ]
  },
  {
   "cell_type": "markdown",
   "id": "c4d5cf62-6012-4812-bf63-ea98b056e290",
   "metadata": {},
   "source": [
    "### (d)"
   ]
  },
  {
   "cell_type": "code",
   "execution_count": 18,
   "id": "24981f67-f59d-48de-b4f7-41aaaf8b4d5e",
   "metadata": {},
   "outputs": [],
   "source": [
    "smallest = min(number1, number2, number3)"
   ]
  },
  {
   "cell_type": "code",
   "execution_count": 19,
   "id": "9f04c4bd-abbc-4895-aa1a-9fd94985e2af",
   "metadata": {},
   "outputs": [
    {
     "data": {
      "text/plain": [
       "3"
      ]
     },
     "execution_count": 19,
     "metadata": {},
     "output_type": "execute_result"
    }
   ],
   "source": [
    "smallest"
   ]
  },
  {
   "cell_type": "markdown",
   "id": "3af05147-864a-440c-a2c1-0f865db50b01",
   "metadata": {},
   "source": [
    "Display the smallest integer using Built-in Function 'min'"
   ]
  },
  {
   "cell_type": "markdown",
   "id": "021c4204-7c04-4257-9a7d-759d5752ff1a",
   "metadata": {},
   "source": [
    "### (e)"
   ]
  },
  {
   "cell_type": "code",
   "execution_count": 20,
   "id": "431c94b5-be14-4442-b9d5-7f8504d3f2e4",
   "metadata": {},
   "outputs": [],
   "source": [
    "largest = max(number1, number2, number3)"
   ]
  },
  {
   "cell_type": "code",
   "execution_count": 21,
   "id": "ee0da098-c614-4b98-94a2-e183b6bcae9e",
   "metadata": {},
   "outputs": [
    {
     "data": {
      "text/plain": [
       "9"
      ]
     },
     "execution_count": 21,
     "metadata": {},
     "output_type": "execute_result"
    }
   ],
   "source": [
    "largest"
   ]
  },
  {
   "cell_type": "markdown",
   "id": "c3189c9e-5211-41ad-88ba-8c8b550acc13",
   "metadata": {},
   "source": [
    "Display the largest integer using Built-in Function 'max'"
   ]
  },
  {
   "cell_type": "markdown",
   "id": "6b3bd468-cb73-4a86-a073-3ec471c4aee3",
   "metadata": {},
   "source": [
    "## 2.12  7% Investment Return\n",
    "Some investment advisors say that it’s reasonable to expect a 7% return over the long term in the stock market. Assuming that you begin with $1000 and leave your money invested, calculate and display how much money you’ll have after 10, 20 and 30 years. Use the following formula for determining these amounts:\n",
    "\n",
    "a = p(1 + r)n\n",
    "where\n",
    "p is the original amount invested (i.e., the principal of $1000),\n",
    "r is the annual rate of return (7%),\n",
    "n is the number of years (10, 20 or 30) and\n",
    "a is the amount on deposit at the end of the nth year.\n"
   ]
  },
  {
   "cell_type": "code",
   "execution_count": 22,
   "id": "8591cff5-64ea-4674-966e-0e45d93344ec",
   "metadata": {},
   "outputs": [],
   "source": [
    "p = 1000"
   ]
  },
  {
   "cell_type": "markdown",
   "id": "addfe5d7-af17-4eb5-971a-74294a6ffb23",
   "metadata": {},
   "source": [
    "#### Principal amount $1000 is declared here"
   ]
  },
  {
   "cell_type": "code",
   "execution_count": 23,
   "id": "5f147688-cbb9-40d9-8e48-5a1fa2d58223",
   "metadata": {},
   "outputs": [],
   "source": [
    "a_10 = p * (1 + 0.07) ** 10"
   ]
  },
  {
   "cell_type": "code",
   "execution_count": 24,
   "id": "b5ec19d5-13e2-4e54-9ffd-b94a9852a88a",
   "metadata": {},
   "outputs": [
    {
     "name": "stdout",
     "output_type": "stream",
     "text": [
      "The amount on deposit $1000 at the end of 10 years is $ 1967.1513572895665\n"
     ]
    }
   ],
   "source": [
    "print ('The amount on deposit $1000 at the end of 10 years is $', a_10)"
   ]
  },
  {
   "cell_type": "code",
   "execution_count": null,
   "id": "f4293fb7-557a-48ea-a675-9fa039a3586d",
   "metadata": {},
   "outputs": [],
   "source": []
  },
  {
   "cell_type": "code",
   "execution_count": 25,
   "id": "cdebd854-8cec-4262-9f5f-7c1c865e1354",
   "metadata": {},
   "outputs": [],
   "source": [
    "a_20 = p * (1 + 0.07) ** 20"
   ]
  },
  {
   "cell_type": "code",
   "execution_count": 26,
   "id": "50645ba2-e35d-4bfd-8593-58c51ca08dc6",
   "metadata": {},
   "outputs": [
    {
     "name": "stdout",
     "output_type": "stream",
     "text": [
      "The amount on deposit $1000 at the end of 20 years is $ 3869.6844624861833\n"
     ]
    }
   ],
   "source": [
    "print ('The amount on deposit $1000 at the end of 20 years is $', a_20)"
   ]
  },
  {
   "cell_type": "code",
   "execution_count": null,
   "id": "acea92b2-13a2-417b-8061-c2aa15efd368",
   "metadata": {},
   "outputs": [],
   "source": []
  },
  {
   "cell_type": "code",
   "execution_count": 27,
   "id": "410926e4-f836-4eb9-936b-2d8a22006f23",
   "metadata": {},
   "outputs": [],
   "source": [
    "a_30 = p * (1 + 0.07) ** 30"
   ]
  },
  {
   "cell_type": "code",
   "execution_count": 28,
   "id": "fdedeb7a-1807-42b0-bd82-4b2232efe7dd",
   "metadata": {},
   "outputs": [
    {
     "name": "stdout",
     "output_type": "stream",
     "text": [
      "The amount on deposit $1000 at the end of 30 years is $ 7612.255042662042\n"
     ]
    }
   ],
   "source": [
    "print ('The amount on deposit $1000 at the end of 30 years is $', a_30)"
   ]
  },
  {
   "cell_type": "markdown",
   "id": "cc36ce34-b1db-4fc4-928b-ed776f2c2b48",
   "metadata": {},
   "source": [
    "#### The amount on deposit $1000 at the end of 10, 20 and 30 years assuming 7% annual rate of return is returned with the application of the given formula."
   ]
  },
  {
   "cell_type": "markdown",
   "id": "dbe46198-902a-466c-9fa6-086ab53c9b10",
   "metadata": {},
   "source": [
    "## 2.13 How Big Can Python Integers Be?\n",
    "We’ll answer this question later in the book. For now, use the exponentiation operator ** with large and very large exponents to produce some huge integers and assign those to the variable number to see if Python accepts them. Did you find any integer value that Python won’t accept?\n"
   ]
  },
  {
   "cell_type": "code",
   "execution_count": 29,
   "id": "8aa2ca00-2c21-4a61-ab68-bb3d6a112c8e",
   "metadata": {},
   "outputs": [],
   "source": [
    "x1 = 10 ** 100"
   ]
  },
  {
   "cell_type": "code",
   "execution_count": 30,
   "id": "af6af6e6-75f4-47d4-b7de-37f20632c22e",
   "metadata": {},
   "outputs": [
    {
     "data": {
      "text/plain": [
       "10000000000000000000000000000000000000000000000000000000000000000000000000000000000000000000000000000"
      ]
     },
     "execution_count": 30,
     "metadata": {},
     "output_type": "execute_result"
    }
   ],
   "source": [
    "x1"
   ]
  },
  {
   "cell_type": "code",
   "execution_count": 31,
   "id": "66b3ac49-99a7-47d8-ae4c-bb364acc6728",
   "metadata": {},
   "outputs": [],
   "source": [
    "x2 = 10 ** 1000"
   ]
  },
  {
   "cell_type": "code",
   "execution_count": 32,
   "id": "91f11d13-c2c5-4003-94e5-6221fcf1edf5",
   "metadata": {},
   "outputs": [
    {
     "data": {
      "text/plain": [
       "10000000000000000000000000000000000000000000000000000000000000000000000000000000000000000000000000000000000000000000000000000000000000000000000000000000000000000000000000000000000000000000000000000000000000000000000000000000000000000000000000000000000000000000000000000000000000000000000000000000000000000000000000000000000000000000000000000000000000000000000000000000000000000000000000000000000000000000000000000000000000000000000000000000000000000000000000000000000000000000000000000000000000000000000000000000000000000000000000000000000000000000000000000000000000000000000000000000000000000000000000000000000000000000000000000000000000000000000000000000000000000000000000000000000000000000000000000000000000000000000000000000000000000000000000000000000000000000000000000000000000000000000000000000000000000000000000000000000000000000000000000000000000000000000000000000000000000000000000000000000000000000000000000000000000000000000000000000000000000000000000000000000000000000000000000000000000000"
      ]
     },
     "execution_count": 32,
     "metadata": {},
     "output_type": "execute_result"
    }
   ],
   "source": [
    "x2"
   ]
  },
  {
   "cell_type": "code",
   "execution_count": 33,
   "id": "2a0bfcbb-4806-45e6-b80e-1da7bcfcff77",
   "metadata": {},
   "outputs": [
    {
     "data": {
      "text/plain": [
       "int"
      ]
     },
     "execution_count": 33,
     "metadata": {},
     "output_type": "execute_result"
    }
   ],
   "source": [
    "type (x2)"
   ]
  },
  {
   "cell_type": "markdown",
   "id": "c36d0e7d-0d20-4c23-901d-979686d2ddc2",
   "metadata": {},
   "source": [
    "#### Python 3 is able to evaluate very large integers and store them as integer types as well. There is no limit other than the limit of the memory available!"
   ]
  },
  {
   "cell_type": "markdown",
   "id": "3d233d16-9a6d-4b6c-bba0-d5805b851ac9",
   "metadata": {},
   "source": [
    "#"
   ]
  },
  {
   "cell_type": "markdown",
   "id": "15c50ab9-a458-4417-807e-546cd64411d0",
   "metadata": {},
   "source": [
    "## Optional Exercise \n",
    "## 2.11 (Separating the Digits in an Integer) \n",
    "Write a script that inputs a five-digit integer from the user. Separate the number into its individual digits. Print them separated by three spaces each. For example, if the user types in the number 42339, the script should print 4 2 3 3 9"
   ]
  },
  {
   "cell_type": "code",
   "execution_count": 34,
   "id": "2d4295b9-af51-4601-8b62-b4f04ae981e5",
   "metadata": {},
   "outputs": [
    {
     "name": "stdin",
     "output_type": "stream",
     "text": [
      "Enter a five-digit integer: 98753\n"
     ]
    }
   ],
   "source": [
    "number = int(input('Enter a five-digit integer:'))"
   ]
  },
  {
   "cell_type": "markdown",
   "id": "3ff8e687-026e-449f-918f-143f42982d4b",
   "metadata": {},
   "source": [
    "#### First we read the input five digit integer from the user"
   ]
  },
  {
   "cell_type": "code",
   "execution_count": 35,
   "id": "a44ce960-ba27-4a97-84b3-5f969c3b13df",
   "metadata": {},
   "outputs": [],
   "source": [
    "D1 = number // 10000"
   ]
  },
  {
   "cell_type": "code",
   "execution_count": 36,
   "id": "f2c15c2b-57f8-4c68-874a-2a62a0a2be51",
   "metadata": {},
   "outputs": [],
   "source": [
    "N1 = number % 10000"
   ]
  },
  {
   "cell_type": "code",
   "execution_count": 37,
   "id": "a5608c84-92e4-4277-a736-a602bbd12f55",
   "metadata": {},
   "outputs": [],
   "source": [
    "D2 = N1 // 1000"
   ]
  },
  {
   "cell_type": "code",
   "execution_count": 38,
   "id": "4b810a2c-9ed6-450f-945e-4731d573e6fc",
   "metadata": {},
   "outputs": [],
   "source": [
    "N2 = number % 1000"
   ]
  },
  {
   "cell_type": "code",
   "execution_count": 39,
   "id": "13f15b9e-f1d6-49ed-a69a-48597703a85e",
   "metadata": {},
   "outputs": [],
   "source": [
    "D3 = N2 // 100"
   ]
  },
  {
   "cell_type": "code",
   "execution_count": 40,
   "id": "dcdb6862-45e6-4506-a89d-e8a904a84716",
   "metadata": {},
   "outputs": [],
   "source": [
    "N3 = number % 100"
   ]
  },
  {
   "cell_type": "code",
   "execution_count": 41,
   "id": "37267158-8648-4223-aef2-c4e4e1bb63d7",
   "metadata": {},
   "outputs": [],
   "source": [
    "D4 = N3 // 10"
   ]
  },
  {
   "cell_type": "code",
   "execution_count": 42,
   "id": "e82b3ea9-45ac-4f3d-8c10-c733b26e7718",
   "metadata": {},
   "outputs": [],
   "source": [
    "N4 = number % 10"
   ]
  },
  {
   "cell_type": "code",
   "execution_count": 43,
   "id": "3b098d05-ebf9-403b-8d72-dca69a14042a",
   "metadata": {},
   "outputs": [],
   "source": [
    "D5 = N4 // 1"
   ]
  },
  {
   "cell_type": "markdown",
   "id": "383a7521-598c-438d-bfbf-5593f51a9c44",
   "metadata": {},
   "source": [
    "#####"
   ]
  },
  {
   "cell_type": "code",
   "execution_count": 44,
   "id": "2f88a25d-bcd4-4dba-b702-7c022d5c1f39",
   "metadata": {},
   "outputs": [
    {
     "name": "stdout",
     "output_type": "stream",
     "text": [
      "9    8    7    5    3\n"
     ]
    }
   ],
   "source": [
    "print(D1, '  ', D2, '  ', D3, '  ', D4, '  ', D5)"
   ]
  },
  {
   "cell_type": "markdown",
   "id": "66f301c3-d970-4b09-bd15-f67de11056fc",
   "metadata": {},
   "source": [
    "##### The floor division operator gets us the first digit of the integer. Next we get the remaining 4 digits using the remainder operator. We can then use the result 'N1' to get the second digit (using floor division) as in the first step. We continue the same till we get the last digit, and print out the result with spaces."
   ]
  }
 ],
 "metadata": {
  "kernelspec": {
   "display_name": "Python 3 (ipykernel)",
   "language": "python",
   "name": "python3"
  },
  "language_info": {
   "codemirror_mode": {
    "name": "ipython",
    "version": 3
   },
   "file_extension": ".py",
   "mimetype": "text/x-python",
   "name": "python",
   "nbconvert_exporter": "python",
   "pygments_lexer": "ipython3",
   "version": "3.9.13"
  }
 },
 "nbformat": 4,
 "nbformat_minor": 5
}
